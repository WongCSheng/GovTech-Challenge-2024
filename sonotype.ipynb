{
  "cells": [
    {
      "cell_type": "markdown",
      "metadata": {
        "id": "view-in-github",
        "colab_type": "text"
      },
      "source": [
        "<a href=\"https://colab.research.google.com/github/WongCSheng/GovTech-Challenge-2024/blob/Sonotype/sonotype.ipynb\" target=\"_parent\"><img src=\"https://colab.research.google.com/assets/colab-badge.svg\" alt=\"Open In Colab\"/></a>"
      ]
    },
    {
      "cell_type": "markdown",
      "id": "introduction",
      "metadata": {
        "id": "introduction"
      },
      "source": [
        "## Introduction\n",
        "\n",
        "The TrAItor has attemped to break into the model and steal our sensitive information. But, you've intercepted an audio recording of the TrAItor typing their password. Can you decipher the password using only the keystroke sounds?"
      ]
    },
    {
      "cell_type": "markdown",
      "id": "objective",
      "metadata": {
        "id": "objective"
      },
      "source": [
        "## Objective\n",
        "\n",
        "Analyze the audio recordings to determine the exact password. Use audio analysis and pattern recognition to extract the password from the key press sounds. Submit the correct password to complete the challenge.\n",
        "\n",
        "**NOTE** Rate Limit requirements.\n",
        "\n",
        "Please limit endpoint requests to 1 request per second per user. Any excessive requests may result in disqualification from the competition."
      ]
    },
    {
      "cell_type": "markdown",
      "id": "setup_instructions",
      "metadata": {
        "id": "setup_instructions"
      },
      "source": [
        "## Setup\n",
        "\n",
        "In order to interact with the challenge, you will need your API Key.\n",
        "\n",
        "You can find this key in the Crucible platform in this challenge.\n",
        "\n",
        "[https://crucible.dreadnode.io/challenges/sonotype](https://crucible.dreadnode.io/challenges/sonotype)"
      ]
    },
    {
      "cell_type": "code",
      "execution_count": 36,
      "id": "api_key",
      "metadata": {
        "id": "api_key"
      },
      "outputs": [],
      "source": [
        "CRUCIBLE_API_KEY = \"AGtHuUxX9MNAXTq3SvCPKKfCWNZRxatm\"  # Replace with your actual API key"
      ]
    },
    {
      "cell_type": "markdown",
      "id": "required_packages",
      "metadata": {
        "id": "required_packages"
      },
      "source": [
        "### Install Required Packages\n",
        "\n",
        "Install the required packages.\n"
      ]
    },
    {
      "cell_type": "code",
      "execution_count": 45,
      "id": "imports",
      "metadata": {
        "id": "imports",
        "outputId": "48684a17-6e6f-4608-ec6f-a6e2fc342ae8",
        "colab": {
          "base_uri": "https://localhost:8080/"
        }
      },
      "outputs": [
        {
          "output_type": "stream",
          "name": "stdout",
          "text": [
            "Requirement already satisfied: requests in /usr/local/lib/python3.10/dist-packages (2.32.3)\n",
            "Requirement already satisfied: charset-normalizer<4,>=2 in /usr/local/lib/python3.10/dist-packages (from requests) (3.4.0)\n",
            "Requirement already satisfied: idna<4,>=2.5 in /usr/local/lib/python3.10/dist-packages (from requests) (3.10)\n",
            "Requirement already satisfied: urllib3<3,>=1.21.1 in /usr/local/lib/python3.10/dist-packages (from requests) (2.2.3)\n",
            "Requirement already satisfied: certifi>=2017.4.17 in /usr/local/lib/python3.10/dist-packages (from requests) (2024.8.30)\n",
            "Requirement already satisfied: numpy in /usr/local/lib/python3.10/dist-packages (1.26.4)\n",
            "Requirement already satisfied: matplotlib in /usr/local/lib/python3.10/dist-packages (3.7.1)\n",
            "Requirement already satisfied: contourpy>=1.0.1 in /usr/local/lib/python3.10/dist-packages (from matplotlib) (1.3.0)\n",
            "Requirement already satisfied: cycler>=0.10 in /usr/local/lib/python3.10/dist-packages (from matplotlib) (0.12.1)\n",
            "Requirement already satisfied: fonttools>=4.22.0 in /usr/local/lib/python3.10/dist-packages (from matplotlib) (4.54.1)\n",
            "Requirement already satisfied: kiwisolver>=1.0.1 in /usr/local/lib/python3.10/dist-packages (from matplotlib) (1.4.7)\n",
            "Requirement already satisfied: numpy>=1.20 in /usr/local/lib/python3.10/dist-packages (from matplotlib) (1.26.4)\n",
            "Requirement already satisfied: packaging>=20.0 in /usr/local/lib/python3.10/dist-packages (from matplotlib) (24.1)\n",
            "Requirement already satisfied: pillow>=6.2.0 in /usr/local/lib/python3.10/dist-packages (from matplotlib) (10.4.0)\n",
            "Requirement already satisfied: pyparsing>=2.3.1 in /usr/local/lib/python3.10/dist-packages (from matplotlib) (3.2.0)\n",
            "Requirement already satisfied: python-dateutil>=2.7 in /usr/local/lib/python3.10/dist-packages (from matplotlib) (2.8.2)\n",
            "Requirement already satisfied: six>=1.5 in /usr/local/lib/python3.10/dist-packages (from python-dateutil>=2.7->matplotlib) (1.16.0)\n",
            "Requirement already satisfied: librosa in /usr/local/lib/python3.10/dist-packages (0.10.2.post1)\n",
            "Requirement already satisfied: audioread>=2.1.9 in /usr/local/lib/python3.10/dist-packages (from librosa) (3.0.1)\n",
            "Requirement already satisfied: numpy!=1.22.0,!=1.22.1,!=1.22.2,>=1.20.3 in /usr/local/lib/python3.10/dist-packages (from librosa) (1.26.4)\n",
            "Requirement already satisfied: scipy>=1.2.0 in /usr/local/lib/python3.10/dist-packages (from librosa) (1.13.1)\n",
            "Requirement already satisfied: scikit-learn>=0.20.0 in /usr/local/lib/python3.10/dist-packages (from librosa) (1.5.2)\n",
            "Requirement already satisfied: joblib>=0.14 in /usr/local/lib/python3.10/dist-packages (from librosa) (1.4.2)\n",
            "Requirement already satisfied: decorator>=4.3.0 in /usr/local/lib/python3.10/dist-packages (from librosa) (4.4.2)\n",
            "Requirement already satisfied: numba>=0.51.0 in /usr/local/lib/python3.10/dist-packages (from librosa) (0.60.0)\n",
            "Requirement already satisfied: soundfile>=0.12.1 in /usr/local/lib/python3.10/dist-packages (from librosa) (0.12.1)\n",
            "Requirement already satisfied: pooch>=1.1 in /usr/local/lib/python3.10/dist-packages (from librosa) (1.8.2)\n",
            "Requirement already satisfied: soxr>=0.3.2 in /usr/local/lib/python3.10/dist-packages (from librosa) (0.5.0.post1)\n",
            "Requirement already satisfied: typing-extensions>=4.1.1 in /usr/local/lib/python3.10/dist-packages (from librosa) (4.12.2)\n",
            "Requirement already satisfied: lazy-loader>=0.1 in /usr/local/lib/python3.10/dist-packages (from librosa) (0.4)\n",
            "Requirement already satisfied: msgpack>=1.0 in /usr/local/lib/python3.10/dist-packages (from librosa) (1.1.0)\n",
            "Requirement already satisfied: packaging in /usr/local/lib/python3.10/dist-packages (from lazy-loader>=0.1->librosa) (24.1)\n",
            "Requirement already satisfied: llvmlite<0.44,>=0.43.0dev0 in /usr/local/lib/python3.10/dist-packages (from numba>=0.51.0->librosa) (0.43.0)\n",
            "Requirement already satisfied: platformdirs>=2.5.0 in /usr/local/lib/python3.10/dist-packages (from pooch>=1.1->librosa) (4.3.6)\n",
            "Requirement already satisfied: requests>=2.19.0 in /usr/local/lib/python3.10/dist-packages (from pooch>=1.1->librosa) (2.32.3)\n",
            "Requirement already satisfied: threadpoolctl>=3.1.0 in /usr/local/lib/python3.10/dist-packages (from scikit-learn>=0.20.0->librosa) (3.5.0)\n",
            "Requirement already satisfied: cffi>=1.0 in /usr/local/lib/python3.10/dist-packages (from soundfile>=0.12.1->librosa) (1.17.1)\n",
            "Requirement already satisfied: pycparser in /usr/local/lib/python3.10/dist-packages (from cffi>=1.0->soundfile>=0.12.1->librosa) (2.22)\n",
            "Requirement already satisfied: charset-normalizer<4,>=2 in /usr/local/lib/python3.10/dist-packages (from requests>=2.19.0->pooch>=1.1->librosa) (3.4.0)\n",
            "Requirement already satisfied: idna<4,>=2.5 in /usr/local/lib/python3.10/dist-packages (from requests>=2.19.0->pooch>=1.1->librosa) (3.10)\n",
            "Requirement already satisfied: urllib3<3,>=1.21.1 in /usr/local/lib/python3.10/dist-packages (from requests>=2.19.0->pooch>=1.1->librosa) (2.2.3)\n",
            "Requirement already satisfied: certifi>=2017.4.17 in /usr/local/lib/python3.10/dist-packages (from requests>=2.19.0->pooch>=1.1->librosa) (2024.8.30)\n",
            "Requirement already satisfied: scikit-learn in /usr/local/lib/python3.10/dist-packages (1.5.2)\n",
            "Requirement already satisfied: numpy>=1.19.5 in /usr/local/lib/python3.10/dist-packages (from scikit-learn) (1.26.4)\n",
            "Requirement already satisfied: scipy>=1.6.0 in /usr/local/lib/python3.10/dist-packages (from scikit-learn) (1.13.1)\n",
            "Requirement already satisfied: joblib>=1.2.0 in /usr/local/lib/python3.10/dist-packages (from scikit-learn) (1.4.2)\n",
            "Requirement already satisfied: threadpoolctl>=3.1.0 in /usr/local/lib/python3.10/dist-packages (from scikit-learn) (3.5.0)\n",
            "Requirement already satisfied: joblib in /usr/local/lib/python3.10/dist-packages (1.4.2)\n"
          ]
        }
      ],
      "source": [
        "%pip install requests\n",
        "%pip install numpy\n",
        "%pip install matplotlib\n",
        "%pip install librosa\n",
        "%pip install scikit-learn\n",
        "%pip install joblib"
      ]
    },
    {
      "cell_type": "markdown",
      "id": "notebook_variables",
      "metadata": {
        "id": "notebook_variables"
      },
      "source": [
        "### Set Notebook Variables\n",
        "\n",
        "Set the variables used throughout the notebook\n"
      ]
    },
    {
      "cell_type": "code",
      "execution_count": 38,
      "id": "setup",
      "metadata": {
        "id": "setup"
      },
      "outputs": [],
      "source": [
        "CHALLENGE = \"sonotype\"\n",
        "CRUCIBLE_URL = \"https://crucible.dreadnode.io\"\n",
        "CHALLENGE_URL = \"https://sonotype.crucible.dreadnode.io\"\n",
        "ARTIFACT_FILES = ['recordings.tar.gz']"
      ]
    },
    {
      "cell_type": "markdown",
      "id": "1bcb6bbe",
      "metadata": {
        "id": "1bcb6bbe"
      },
      "source": [
        "### Download Data\n",
        "\n",
        "Before diving into data analysis, you'll need to download the necessary dataset for this challenge."
      ]
    },
    {
      "cell_type": "code",
      "execution_count": 62,
      "id": "0df34465",
      "metadata": {
        "id": "0df34465",
        "outputId": "3b478dae-b48f-482b-f0d2-d505108d9704",
        "colab": {
          "base_uri": "https://localhost:8080/"
        }
      },
      "outputs": [
        {
          "output_type": "stream",
          "name": "stdout",
          "text": [
            "recordings.tar.gz was successfully downloaded\n"
          ]
        }
      ],
      "source": [
        "import requests\n",
        "\n",
        "\n",
        "for artifact in ARTIFACT_FILES:\n",
        "    url = f\"{CRUCIBLE_URL}/api/artifacts/{CHALLENGE}/{artifact}\"\n",
        "    headers = {\"X-API-Key\": CRUCIBLE_API_KEY}\n",
        "    response = requests.get(url, headers=headers)\n",
        "    if response.status_code == 200:\n",
        "        with open(artifact, \"wb\") as file:\n",
        "            file.write(response.content)\n",
        "        print(f\"{artifact} was successfully downloaded\")\n",
        "    else:\n",
        "        print(f\"Failed to download {artifact}\")"
      ]
    },
    {
      "cell_type": "markdown",
      "source": [
        "Extract"
      ],
      "metadata": {
        "id": "JjprT1yrboSz"
      },
      "id": "JjprT1yrboSz"
    },
    {
      "cell_type": "code",
      "source": [
        "import tarfile\n",
        "\n",
        "# Extract out the recordings\n",
        "file = tarfile.open('recordings.tar.gz')\n",
        "file.extractall('./')\n",
        "file.close()"
      ],
      "metadata": {
        "id": "dwRJCjv0bpQH"
      },
      "id": "dwRJCjv0bpQH",
      "execution_count": 63,
      "outputs": []
    },
    {
      "cell_type": "markdown",
      "id": "submit_findings_label",
      "metadata": {
        "id": "submit_findings_label"
      },
      "source": [
        "## Submit Your Findings\n",
        "\n",
        "Submit findings placeholder"
      ]
    },
    {
      "cell_type": "code",
      "execution_count": 91,
      "id": "submit_findings_code",
      "metadata": {
        "id": "submit_findings_code",
        "outputId": "d663f49d-d7e7-4b87-fd97-4265bf13e410",
        "colab": {
          "base_uri": "https://localhost:8080/"
        }
      },
      "outputs": [
        {
          "output_type": "stream",
          "name": "stdout",
          "text": [
            "{'error': 'Incorrect. Try again.'}\n"
          ]
        }
      ],
      "source": [
        "import requests\n",
        "\n",
        "\n",
        "def query(input_data):\n",
        "    response = requests.post(\n",
        "        f\"{CHALLENGE_URL}/score\",\n",
        "        headers={\"X-API-Key\": CRUCIBLE_API_KEY},\n",
        "        json={\"data\": input_data},\n",
        "    )\n",
        "    return response.json()\n",
        "\n",
        "\n",
        "response = query(\"<U9\")\n",
        "print(response)"
      ]
    },
    {
      "cell_type": "markdown",
      "id": "submit_flag_label",
      "metadata": {
        "id": "submit_flag_label"
      },
      "source": [
        "## Submit Your Flag\n",
        "\n",
        "When you find the answer, you will get a flag back. It will look something like `gAAAAA ...`.\n",
        "You can submit it using the code below, or, on the challenge page."
      ]
    },
    {
      "cell_type": "code",
      "execution_count": null,
      "id": "submit_flag_code",
      "metadata": {
        "id": "submit_flag_code"
      },
      "outputs": [],
      "source": [
        "import requests\n",
        "\n",
        "\n",
        "def submit_flag(flag):\n",
        "    url = f\"{CRUCIBLE_URL}/api/challenges/{CHALLENGE}/submit-flag\"\n",
        "    headers = {\"X-API-Key\": CRUCIBLE_API_KEY}\n",
        "    payload = {\"challenge\": CHALLENGE, \"flag\": flag}\n",
        "    response = requests.post(url, headers=headers, json=payload)\n",
        "    if response.status_code == 200:\n",
        "        if response.json().get(\"correct\") is True:\n",
        "            print(\"The flag was correct. Congrats!\")\n",
        "        else:\n",
        "            print(\"The flag was incorrect. Keep trying!\")\n",
        "    else:\n",
        "        print(\"There was an error submitting your flag\")\n",
        "        print(response.text)\n",
        "\n",
        "\n",
        "FLAG = \"gAAAAA...\"  # Replace with the flag once you find it\n",
        "submit_flag(FLAG)"
      ]
    },
    {
      "cell_type": "markdown",
      "id": "bb866e6e",
      "metadata": {
        "id": "bb866e6e"
      },
      "source": [
        "## Supplemental Materials\n",
        "\n",
        "Use these materials for help solving the challenge."
      ]
    },
    {
      "cell_type": "markdown",
      "id": "placeholder_markdown",
      "metadata": {
        "id": "placeholder_markdown"
      },
      "source": [
        "### Helper Functions"
      ]
    },
    {
      "cell_type": "code",
      "execution_count": 64,
      "id": "placeholder_code",
      "metadata": {
        "id": "placeholder_code"
      },
      "outputs": [],
      "source": [
        "import matplotlib.pyplot as plt\n",
        "import numpy as np\n",
        "import wave\n",
        "\n",
        "\n",
        "def load_audio(file_path):\n",
        "    \"\"\"Load an audio file and return the audio data and frame rate.\"\"\"\n",
        "    with wave.open(file_path, \"rb\") as wf:\n",
        "        frame_rate = wf.getframerate()\n",
        "        n_frames = wf.getnframes()\n",
        "        audio_data = wf.readframes(n_frames)\n",
        "        audio_data = np.frombuffer(audio_data, dtype=np.int16)\n",
        "    return audio_data, frame_rate\n",
        "\n",
        "\n",
        "def plot_waveform(audio_data, frame_rate):\n",
        "    \"\"\"Plot the waveform of the audio data.\"\"\"\n",
        "    time_axis = np.linspace(0, len(audio_data) / frame_rate, num=len(audio_data))\n",
        "    plt.figure(figsize=(15, 5))\n",
        "    plt.plot(time_axis, audio_data)\n",
        "    plt.title(\"Audio Waveform\")\n",
        "    plt.xlabel(\"Time (s)\")\n",
        "    plt.ylabel(\"Amplitude\")\n",
        "    plt.show()\n",
        "\n",
        "\n",
        "# Example usage\n",
        "#audio_file = ARTIFACT_FILES[0]\n",
        "#audio_data, frame_rate = load_audio(audio_file)\n",
        "#plot_waveform(audio_data, frame_rate)"
      ]
    },
    {
      "cell_type": "markdown",
      "source": [
        "# Analyse"
      ],
      "metadata": {
        "id": "hc-nWhX2biar"
      },
      "id": "hc-nWhX2biar"
    },
    {
      "cell_type": "markdown",
      "source": [
        "Training data"
      ],
      "metadata": {
        "id": "u-lYc19hdWhg"
      },
      "id": "u-lYc19hdWhg"
    },
    {
      "cell_type": "code",
      "source": [
        "import librosa\n",
        "import os\n",
        "from sklearn.model_selection import train_test_split\n",
        "from sklearn.svm import SVC\n",
        "from sklearn.ensemble import RandomForestClassifier\n",
        "from sklearn.metrics import accuracy_score\n",
        "import joblib\n",
        "\n",
        "def remove_silence(signal):\n",
        "  intervals = librosa.effects.split(signal)\n",
        "  return signal[intervals[0][0] : intervals[-1][1]]\n",
        "\n",
        "def preprocess_audio(folder_path):\n",
        "  keystroke_data = []\n",
        "  labels = []\n",
        "\n",
        "  for filename in os.listdir(folder_path):\n",
        "    if filename.endswith(\".wav\") and os.path.isfile(folder_path):\n",
        "      try:\n",
        "        file_path = os.path.join(folder_path, filename)\n",
        "        audio_data, frame_rate = load_audio(file_path)\n",
        "\n",
        "        audio_data = remove_silence(audio_data)\n",
        "\n",
        "        keystroke_data.append(audio_data)\n",
        "        labels.append(filename.split(\"_\")[0])\n",
        "\n",
        "        print(f\"File location: {file_path}\")\n",
        "      except wave.Error as e:\n",
        "        print(f\"Error processing file {filename}\")\n",
        "  return keystroke_data, labels, frame_rate\n",
        "\n",
        "def extract_features(audio_data, frame_rate):\n",
        "  mfccs = librosa.feature.mfcc(y = audio_data.astype(float), sr = frame_rate, n_mfcc = 13)\n",
        "  return np.mean(mfccs.T, axis = 0)\n",
        "\n",
        "def training(folder_path):\n",
        "  keystroke_data, labels, frame_rate = preprocess_audio(folder_path)\n",
        "  features = [extract_features(audio_data, frame_rate) for audio_data in keystroke_data]\n",
        "\n",
        "  X_train, X_test, y_train, y_test = train_test_split(features, labels, test_size = 0.2, random_state = 42)\n",
        "\n",
        "  model = RandomForestClassifier()\n",
        "  model.fit(X_train, y_train)\n",
        "\n",
        "  y_pred = model.predict(X_test)\n",
        "  print(f\"Accuracy: {accuracy_score(y_test, y_pred)}\")\n",
        "\n",
        "  return model\n",
        "\n",
        "def predict_keystrokes(audio_file, model):\n",
        "  audio_data, frame_rate = load_audio(audio_file)\n",
        "\n",
        "  segments = librosa.effects.split(audio_data, top_db = 30)\n",
        "  predictions = []\n",
        "\n",
        "  for start, end in segments:\n",
        "    segment = audio_data[start:end]\n",
        "    features = extract_features(segment, frame_rate)\n",
        "    prediction = model.predict([features])\n",
        "    predictions.append(prediction)[0]\n",
        "\n",
        "  return \"\".join(predictions)"
      ],
      "metadata": {
        "id": "I3K3rzYYdY5Z"
      },
      "id": "I3K3rzYYdY5Z",
      "execution_count": 119,
      "outputs": []
    },
    {
      "cell_type": "code",
      "source": [
        "#audio_data, frame_rate = load_audio('recordings/keystrokes/keystroke_0.wav')\n",
        "#plot_waveform(audio_data, frame_rate)\n",
        "\n",
        "model = training('recordings/keystrokes/')\n",
        "\n",
        "predicted_text = predict_keystrokes('recordings/passwords/', model)\n",
        "print(\"Predicted Text:\", predicted_text)"
      ],
      "metadata": {
        "id": "oE6PsduQklHL",
        "outputId": "fcded3c8-e3fd-45cc-87f4-79a037c71d71",
        "colab": {
          "base_uri": "https://localhost:8080/",
          "height": 356
        }
      },
      "id": "oE6PsduQklHL",
      "execution_count": 120,
      "outputs": [
        {
          "output_type": "error",
          "ename": "UnboundLocalError",
          "evalue": "local variable 'frame_rate' referenced before assignment",
          "traceback": [
            "\u001b[0;31m---------------------------------------------------------------------------\u001b[0m",
            "\u001b[0;31mUnboundLocalError\u001b[0m                         Traceback (most recent call last)",
            "\u001b[0;32m<ipython-input-120-d3d5a1ed3a23>\u001b[0m in \u001b[0;36m<cell line: 4>\u001b[0;34m()\u001b[0m\n\u001b[1;32m      2\u001b[0m \u001b[0;31m#plot_waveform(audio_data, frame_rate)\u001b[0m\u001b[0;34m\u001b[0m\u001b[0;34m\u001b[0m\u001b[0m\n\u001b[1;32m      3\u001b[0m \u001b[0;34m\u001b[0m\u001b[0m\n\u001b[0;32m----> 4\u001b[0;31m \u001b[0mmodel\u001b[0m \u001b[0;34m=\u001b[0m \u001b[0mtraining\u001b[0m\u001b[0;34m(\u001b[0m\u001b[0;34m'recordings/keystrokes/'\u001b[0m\u001b[0;34m)\u001b[0m\u001b[0;34m\u001b[0m\u001b[0;34m\u001b[0m\u001b[0m\n\u001b[0m\u001b[1;32m      5\u001b[0m \u001b[0;34m\u001b[0m\u001b[0m\n\u001b[1;32m      6\u001b[0m \u001b[0mpredicted_text\u001b[0m \u001b[0;34m=\u001b[0m \u001b[0mpredict_keystrokes\u001b[0m\u001b[0;34m(\u001b[0m\u001b[0;34m'recordings/passwords/'\u001b[0m\u001b[0;34m,\u001b[0m \u001b[0mmodel\u001b[0m\u001b[0;34m)\u001b[0m\u001b[0;34m\u001b[0m\u001b[0;34m\u001b[0m\u001b[0m\n",
            "\u001b[0;32m<ipython-input-119-505e80d4b01e>\u001b[0m in \u001b[0;36mtraining\u001b[0;34m(folder_path)\u001b[0m\n\u001b[1;32m     36\u001b[0m \u001b[0;34m\u001b[0m\u001b[0m\n\u001b[1;32m     37\u001b[0m \u001b[0;32mdef\u001b[0m \u001b[0mtraining\u001b[0m\u001b[0;34m(\u001b[0m\u001b[0mfolder_path\u001b[0m\u001b[0;34m)\u001b[0m\u001b[0;34m:\u001b[0m\u001b[0;34m\u001b[0m\u001b[0;34m\u001b[0m\u001b[0m\n\u001b[0;32m---> 38\u001b[0;31m   \u001b[0mkeystroke_data\u001b[0m\u001b[0;34m,\u001b[0m \u001b[0mlabels\u001b[0m\u001b[0;34m,\u001b[0m \u001b[0mframe_rate\u001b[0m \u001b[0;34m=\u001b[0m \u001b[0mpreprocess_audio\u001b[0m\u001b[0;34m(\u001b[0m\u001b[0mfolder_path\u001b[0m\u001b[0;34m)\u001b[0m\u001b[0;34m\u001b[0m\u001b[0;34m\u001b[0m\u001b[0m\n\u001b[0m\u001b[1;32m     39\u001b[0m   \u001b[0mfeatures\u001b[0m \u001b[0;34m=\u001b[0m \u001b[0;34m[\u001b[0m\u001b[0mextract_features\u001b[0m\u001b[0;34m(\u001b[0m\u001b[0maudio_data\u001b[0m\u001b[0;34m,\u001b[0m \u001b[0mframe_rate\u001b[0m\u001b[0;34m)\u001b[0m \u001b[0;32mfor\u001b[0m \u001b[0maudio_data\u001b[0m \u001b[0;32min\u001b[0m \u001b[0mkeystroke_data\u001b[0m\u001b[0;34m]\u001b[0m\u001b[0;34m\u001b[0m\u001b[0;34m\u001b[0m\u001b[0m\n\u001b[1;32m     40\u001b[0m \u001b[0;34m\u001b[0m\u001b[0m\n",
            "\u001b[0;32m<ipython-input-119-505e80d4b01e>\u001b[0m in \u001b[0;36mpreprocess_audio\u001b[0;34m(folder_path)\u001b[0m\n\u001b[1;32m     29\u001b[0m       \u001b[0;32mexcept\u001b[0m \u001b[0mwave\u001b[0m\u001b[0;34m.\u001b[0m\u001b[0mError\u001b[0m \u001b[0;32mas\u001b[0m \u001b[0me\u001b[0m\u001b[0;34m:\u001b[0m\u001b[0;34m\u001b[0m\u001b[0;34m\u001b[0m\u001b[0m\n\u001b[1;32m     30\u001b[0m         \u001b[0mprint\u001b[0m\u001b[0;34m(\u001b[0m\u001b[0;34mf\"Error processing file {filename}\"\u001b[0m\u001b[0;34m)\u001b[0m\u001b[0;34m\u001b[0m\u001b[0;34m\u001b[0m\u001b[0m\n\u001b[0;32m---> 31\u001b[0;31m   \u001b[0;32mreturn\u001b[0m \u001b[0mkeystroke_data\u001b[0m\u001b[0;34m,\u001b[0m \u001b[0mlabels\u001b[0m\u001b[0;34m,\u001b[0m \u001b[0mframe_rate\u001b[0m\u001b[0;34m\u001b[0m\u001b[0;34m\u001b[0m\u001b[0m\n\u001b[0m\u001b[1;32m     32\u001b[0m \u001b[0;34m\u001b[0m\u001b[0m\n\u001b[1;32m     33\u001b[0m \u001b[0;32mdef\u001b[0m \u001b[0mextract_features\u001b[0m\u001b[0;34m(\u001b[0m\u001b[0maudio_data\u001b[0m\u001b[0;34m,\u001b[0m \u001b[0mframe_rate\u001b[0m\u001b[0;34m)\u001b[0m\u001b[0;34m:\u001b[0m\u001b[0;34m\u001b[0m\u001b[0;34m\u001b[0m\u001b[0m\n",
            "\u001b[0;31mUnboundLocalError\u001b[0m: local variable 'frame_rate' referenced before assignment"
          ]
        }
      ]
    }
  ],
  "metadata": {
    "kernelspec": {
      "display_name": "Python 3",
      "name": "python3"
    },
    "language_info": {
      "name": "python",
      "version": "3.11.0"
    },
    "colab": {
      "provenance": [],
      "gpuType": "T4",
      "include_colab_link": true
    },
    "accelerator": "GPU"
  },
  "nbformat": 4,
  "nbformat_minor": 5
}