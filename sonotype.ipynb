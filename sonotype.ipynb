{
  "cells": [
    {
      "cell_type": "markdown",
      "metadata": {
        "id": "view-in-github",
        "colab_type": "text"
      },
      "source": [
        "<a href=\"https://colab.research.google.com/github/WongCSheng/GovTech-Challenge-2024/blob/Sonotype/sonotype.ipynb\" target=\"_parent\"><img src=\"https://colab.research.google.com/assets/colab-badge.svg\" alt=\"Open In Colab\"/></a>"
      ]
    },
    {
      "cell_type": "markdown",
      "id": "introduction",
      "metadata": {
        "id": "introduction"
      },
      "source": [
        "## Introduction\n",
        "\n",
        "The TrAItor has attemped to break into the model and steal our sensitive information. But, you've intercepted an audio recording of the TrAItor typing their password. Can you decipher the password using only the keystroke sounds?"
      ]
    },
    {
      "cell_type": "markdown",
      "id": "objective",
      "metadata": {
        "id": "objective"
      },
      "source": [
        "## Objective\n",
        "\n",
        "Analyze the audio recordings to determine the exact password. Use audio analysis and pattern recognition to extract the password from the key press sounds. Submit the correct password to complete the challenge.\n",
        "\n",
        "**NOTE** Rate Limit requirements.\n",
        "\n",
        "Please limit endpoint requests to 1 request per second per user. Any excessive requests may result in disqualification from the competition."
      ]
    },
    {
      "cell_type": "markdown",
      "id": "setup_instructions",
      "metadata": {
        "id": "setup_instructions"
      },
      "source": [
        "## Setup\n",
        "\n",
        "In order to interact with the challenge, you will need your API Key.\n",
        "\n",
        "You can find this key in the Crucible platform in this challenge.\n",
        "\n",
        "[https://crucible.dreadnode.io/challenges/sonotype](https://crucible.dreadnode.io/challenges/sonotype)"
      ]
    },
    {
      "cell_type": "code",
      "execution_count": 4,
      "id": "api_key",
      "metadata": {
        "id": "api_key"
      },
      "outputs": [],
      "source": [
        "CRUCIBLE_API_KEY = \"AGtHuUxX9MNAXTq3SvCPKKfCWNZRxatm\"  # Replace with your actual API key"
      ]
    },
    {
      "cell_type": "markdown",
      "id": "required_packages",
      "metadata": {
        "id": "required_packages"
      },
      "source": [
        "### Install Required Packages\n",
        "\n",
        "Install the required packages.\n"
      ]
    },
    {
      "cell_type": "code",
      "execution_count": 5,
      "id": "imports",
      "metadata": {
        "id": "imports",
        "outputId": "f693865e-eea6-4da3-9e7f-6bcbdfd0a774",
        "colab": {
          "base_uri": "https://localhost:8080/"
        }
      },
      "outputs": [
        {
          "output_type": "stream",
          "name": "stdout",
          "text": [
            "Requirement already satisfied: requests in /usr/local/lib/python3.10/dist-packages (2.32.3)\n",
            "Requirement already satisfied: charset-normalizer<4,>=2 in /usr/local/lib/python3.10/dist-packages (from requests) (3.3.2)\n",
            "Requirement already satisfied: idna<4,>=2.5 in /usr/local/lib/python3.10/dist-packages (from requests) (3.10)\n",
            "Requirement already satisfied: urllib3<3,>=1.21.1 in /usr/local/lib/python3.10/dist-packages (from requests) (2.2.3)\n",
            "Requirement already satisfied: certifi>=2017.4.17 in /usr/local/lib/python3.10/dist-packages (from requests) (2024.8.30)\n",
            "Requirement already satisfied: numpy in /usr/local/lib/python3.10/dist-packages (1.26.4)\n",
            "Requirement already satisfied: matplotlib in /usr/local/lib/python3.10/dist-packages (3.7.1)\n",
            "Requirement already satisfied: contourpy>=1.0.1 in /usr/local/lib/python3.10/dist-packages (from matplotlib) (1.3.0)\n",
            "Requirement already satisfied: cycler>=0.10 in /usr/local/lib/python3.10/dist-packages (from matplotlib) (0.12.1)\n",
            "Requirement already satisfied: fonttools>=4.22.0 in /usr/local/lib/python3.10/dist-packages (from matplotlib) (4.53.1)\n",
            "Requirement already satisfied: kiwisolver>=1.0.1 in /usr/local/lib/python3.10/dist-packages (from matplotlib) (1.4.7)\n",
            "Requirement already satisfied: numpy>=1.20 in /usr/local/lib/python3.10/dist-packages (from matplotlib) (1.26.4)\n",
            "Requirement already satisfied: packaging>=20.0 in /usr/local/lib/python3.10/dist-packages (from matplotlib) (24.1)\n",
            "Requirement already satisfied: pillow>=6.2.0 in /usr/local/lib/python3.10/dist-packages (from matplotlib) (10.4.0)\n",
            "Requirement already satisfied: pyparsing>=2.3.1 in /usr/local/lib/python3.10/dist-packages (from matplotlib) (3.1.4)\n",
            "Requirement already satisfied: python-dateutil>=2.7 in /usr/local/lib/python3.10/dist-packages (from matplotlib) (2.8.2)\n",
            "Requirement already satisfied: six>=1.5 in /usr/local/lib/python3.10/dist-packages (from python-dateutil>=2.7->matplotlib) (1.16.0)\n",
            "Requirement already satisfied: librosa in /usr/local/lib/python3.10/dist-packages (0.10.2.post1)\n",
            "Requirement already satisfied: audioread>=2.1.9 in /usr/local/lib/python3.10/dist-packages (from librosa) (3.0.1)\n",
            "Requirement already satisfied: numpy!=1.22.0,!=1.22.1,!=1.22.2,>=1.20.3 in /usr/local/lib/python3.10/dist-packages (from librosa) (1.26.4)\n",
            "Requirement already satisfied: scipy>=1.2.0 in /usr/local/lib/python3.10/dist-packages (from librosa) (1.13.1)\n",
            "Requirement already satisfied: scikit-learn>=0.20.0 in /usr/local/lib/python3.10/dist-packages (from librosa) (1.5.2)\n",
            "Requirement already satisfied: joblib>=0.14 in /usr/local/lib/python3.10/dist-packages (from librosa) (1.4.2)\n",
            "Requirement already satisfied: decorator>=4.3.0 in /usr/local/lib/python3.10/dist-packages (from librosa) (4.4.2)\n",
            "Requirement already satisfied: numba>=0.51.0 in /usr/local/lib/python3.10/dist-packages (from librosa) (0.60.0)\n",
            "Requirement already satisfied: soundfile>=0.12.1 in /usr/local/lib/python3.10/dist-packages (from librosa) (0.12.1)\n",
            "Requirement already satisfied: pooch>=1.1 in /usr/local/lib/python3.10/dist-packages (from librosa) (1.8.2)\n",
            "Requirement already satisfied: soxr>=0.3.2 in /usr/local/lib/python3.10/dist-packages (from librosa) (0.5.0.post1)\n",
            "Requirement already satisfied: typing-extensions>=4.1.1 in /usr/local/lib/python3.10/dist-packages (from librosa) (4.12.2)\n",
            "Requirement already satisfied: lazy-loader>=0.1 in /usr/local/lib/python3.10/dist-packages (from librosa) (0.4)\n",
            "Requirement already satisfied: msgpack>=1.0 in /usr/local/lib/python3.10/dist-packages (from librosa) (1.0.8)\n",
            "Requirement already satisfied: packaging in /usr/local/lib/python3.10/dist-packages (from lazy-loader>=0.1->librosa) (24.1)\n",
            "Requirement already satisfied: llvmlite<0.44,>=0.43.0dev0 in /usr/local/lib/python3.10/dist-packages (from numba>=0.51.0->librosa) (0.43.0)\n",
            "Requirement already satisfied: platformdirs>=2.5.0 in /usr/local/lib/python3.10/dist-packages (from pooch>=1.1->librosa) (4.3.6)\n",
            "Requirement already satisfied: requests>=2.19.0 in /usr/local/lib/python3.10/dist-packages (from pooch>=1.1->librosa) (2.32.3)\n",
            "Requirement already satisfied: threadpoolctl>=3.1.0 in /usr/local/lib/python3.10/dist-packages (from scikit-learn>=0.20.0->librosa) (3.5.0)\n",
            "Requirement already satisfied: cffi>=1.0 in /usr/local/lib/python3.10/dist-packages (from soundfile>=0.12.1->librosa) (1.17.1)\n",
            "Requirement already satisfied: pycparser in /usr/local/lib/python3.10/dist-packages (from cffi>=1.0->soundfile>=0.12.1->librosa) (2.22)\n",
            "Requirement already satisfied: charset-normalizer<4,>=2 in /usr/local/lib/python3.10/dist-packages (from requests>=2.19.0->pooch>=1.1->librosa) (3.3.2)\n",
            "Requirement already satisfied: idna<4,>=2.5 in /usr/local/lib/python3.10/dist-packages (from requests>=2.19.0->pooch>=1.1->librosa) (3.10)\n",
            "Requirement already satisfied: urllib3<3,>=1.21.1 in /usr/local/lib/python3.10/dist-packages (from requests>=2.19.0->pooch>=1.1->librosa) (2.2.3)\n",
            "Requirement already satisfied: certifi>=2017.4.17 in /usr/local/lib/python3.10/dist-packages (from requests>=2.19.0->pooch>=1.1->librosa) (2024.8.30)\n",
            "Requirement already satisfied: scikit-learn in /usr/local/lib/python3.10/dist-packages (1.5.2)\n",
            "Requirement already satisfied: numpy>=1.19.5 in /usr/local/lib/python3.10/dist-packages (from scikit-learn) (1.26.4)\n",
            "Requirement already satisfied: scipy>=1.6.0 in /usr/local/lib/python3.10/dist-packages (from scikit-learn) (1.13.1)\n",
            "Requirement already satisfied: joblib>=1.2.0 in /usr/local/lib/python3.10/dist-packages (from scikit-learn) (1.4.2)\n",
            "Requirement already satisfied: threadpoolctl>=3.1.0 in /usr/local/lib/python3.10/dist-packages (from scikit-learn) (3.5.0)\n",
            "Requirement already satisfied: joblib in /usr/local/lib/python3.10/dist-packages (1.4.2)\n"
          ]
        }
      ],
      "source": [
        "%pip install requests\n",
        "%pip install numpy\n",
        "%pip install matplotlib\n",
        "%pip install librosa\n",
        "%pip install scikit-learn\n",
        "%pip install joblib"
      ]
    },
    {
      "cell_type": "markdown",
      "id": "notebook_variables",
      "metadata": {
        "id": "notebook_variables"
      },
      "source": [
        "### Set Notebook Variables\n",
        "\n",
        "Set the variables used throughout the notebook\n"
      ]
    },
    {
      "cell_type": "code",
      "execution_count": 6,
      "id": "setup",
      "metadata": {
        "id": "setup"
      },
      "outputs": [],
      "source": [
        "CHALLENGE = \"sonotype\"\n",
        "CRUCIBLE_URL = \"https://crucible.dreadnode.io\"\n",
        "CHALLENGE_URL = \"https://sonotype.crucible.dreadnode.io\"\n",
        "ARTIFACT_FILES = ['recordings.tar.gz']"
      ]
    },
    {
      "cell_type": "markdown",
      "id": "1bcb6bbe",
      "metadata": {
        "id": "1bcb6bbe"
      },
      "source": [
        "### Download Data\n",
        "\n",
        "Before diving into data analysis, you'll need to download the necessary dataset for this challenge."
      ]
    },
    {
      "cell_type": "code",
      "execution_count": 7,
      "id": "0df34465",
      "metadata": {
        "id": "0df34465",
        "outputId": "0462c718-8e44-43bf-a1b5-fd162a90d6cf",
        "colab": {
          "base_uri": "https://localhost:8080/"
        }
      },
      "outputs": [
        {
          "output_type": "stream",
          "name": "stdout",
          "text": [
            "recordings.tar.gz was successfully downloaded\n"
          ]
        }
      ],
      "source": [
        "import requests\n",
        "\n",
        "\n",
        "for artifact in ARTIFACT_FILES:\n",
        "    url = f\"{CRUCIBLE_URL}/api/artifacts/{CHALLENGE}/{artifact}\"\n",
        "    headers = {\"X-API-Key\": CRUCIBLE_API_KEY}\n",
        "    response = requests.get(url, headers=headers)\n",
        "    if response.status_code == 200:\n",
        "        with open(artifact, \"wb\") as file:\n",
        "            file.write(response.content)\n",
        "        print(f\"{artifact} was successfully downloaded\")\n",
        "    else:\n",
        "        print(f\"Failed to download {artifact}\")"
      ]
    },
    {
      "cell_type": "markdown",
      "source": [
        "Extract"
      ],
      "metadata": {
        "id": "JjprT1yrboSz"
      },
      "id": "JjprT1yrboSz"
    },
    {
      "cell_type": "code",
      "source": [
        "import tarfile\n",
        "\n",
        "# Extract out the recordings\n",
        "file = tarfile.open('recordings.tar.gz')\n",
        "file.extractall('./')\n",
        "file.close()"
      ],
      "metadata": {
        "id": "dwRJCjv0bpQH"
      },
      "id": "dwRJCjv0bpQH",
      "execution_count": 8,
      "outputs": []
    },
    {
      "cell_type": "markdown",
      "id": "submit_findings_label",
      "metadata": {
        "id": "submit_findings_label"
      },
      "source": [
        "## Submit Your Findings\n",
        "\n",
        "Submit findings placeholder"
      ]
    },
    {
      "cell_type": "code",
      "execution_count": 3,
      "id": "submit_findings_code",
      "metadata": {
        "id": "submit_findings_code",
        "outputId": "046cd265-c3c7-47c5-bce0-308797c93962",
        "colab": {
          "base_uri": "https://localhost:8080/",
          "height": 315
        }
      },
      "outputs": [
        {
          "output_type": "error",
          "ename": "NameError",
          "evalue": "name 'CHALLENGE_URL' is not defined",
          "traceback": [
            "\u001b[0;31m---------------------------------------------------------------------------\u001b[0m",
            "\u001b[0;31mNameError\u001b[0m                                 Traceback (most recent call last)",
            "\u001b[0;32m<ipython-input-3-4ec2ccb20a8e>\u001b[0m in \u001b[0;36m<cell line: 13>\u001b[0;34m()\u001b[0m\n\u001b[1;32m     11\u001b[0m \u001b[0;34m\u001b[0m\u001b[0m\n\u001b[1;32m     12\u001b[0m \u001b[0;34m\u001b[0m\u001b[0m\n\u001b[0;32m---> 13\u001b[0;31m \u001b[0mresponse\u001b[0m \u001b[0;34m=\u001b[0m \u001b[0mquery\u001b[0m\u001b[0;34m(\u001b[0m\u001b[0;34m\"c1111c1c11'1e1111cc11111f1c111111111c111c111111111c111111c15'1e1c11e1111111\"\u001b[0m\u001b[0;34m)\u001b[0m\u001b[0;34m\u001b[0m\u001b[0;34m\u001b[0m\u001b[0m\n\u001b[0m\u001b[1;32m     14\u001b[0m \u001b[0mprint\u001b[0m\u001b[0;34m(\u001b[0m\u001b[0mresponse\u001b[0m\u001b[0;34m)\u001b[0m\u001b[0;34m\u001b[0m\u001b[0;34m\u001b[0m\u001b[0m\n",
            "\u001b[0;32m<ipython-input-3-4ec2ccb20a8e>\u001b[0m in \u001b[0;36mquery\u001b[0;34m(input_data)\u001b[0m\n\u001b[1;32m      4\u001b[0m \u001b[0;32mdef\u001b[0m \u001b[0mquery\u001b[0m\u001b[0;34m(\u001b[0m\u001b[0minput_data\u001b[0m\u001b[0;34m)\u001b[0m\u001b[0;34m:\u001b[0m\u001b[0;34m\u001b[0m\u001b[0;34m\u001b[0m\u001b[0m\n\u001b[1;32m      5\u001b[0m     response = requests.post(\n\u001b[0;32m----> 6\u001b[0;31m         \u001b[0;34mf\"{CHALLENGE_URL}/score\"\u001b[0m\u001b[0;34m,\u001b[0m\u001b[0;34m\u001b[0m\u001b[0;34m\u001b[0m\u001b[0m\n\u001b[0m\u001b[1;32m      7\u001b[0m         \u001b[0mheaders\u001b[0m\u001b[0;34m=\u001b[0m\u001b[0;34m{\u001b[0m\u001b[0;34m\"X-API-Key\"\u001b[0m\u001b[0;34m:\u001b[0m \u001b[0mCRUCIBLE_API_KEY\u001b[0m\u001b[0;34m}\u001b[0m\u001b[0;34m,\u001b[0m\u001b[0;34m\u001b[0m\u001b[0;34m\u001b[0m\u001b[0m\n\u001b[1;32m      8\u001b[0m         \u001b[0mjson\u001b[0m\u001b[0;34m=\u001b[0m\u001b[0;34m{\u001b[0m\u001b[0;34m\"data\"\u001b[0m\u001b[0;34m:\u001b[0m \u001b[0minput_data\u001b[0m\u001b[0;34m}\u001b[0m\u001b[0;34m,\u001b[0m\u001b[0;34m\u001b[0m\u001b[0;34m\u001b[0m\u001b[0m\n",
            "\u001b[0;31mNameError\u001b[0m: name 'CHALLENGE_URL' is not defined"
          ]
        }
      ],
      "source": [
        "import requests\n",
        "\n",
        "\n",
        "def query(input_data):\n",
        "    response = requests.post(\n",
        "        f\"{CHALLENGE_URL}/score\",\n",
        "        headers={\"X-API-Key\": CRUCIBLE_API_KEY},\n",
        "        json={\"data\": input_data},\n",
        "    )\n",
        "    return response.json()\n",
        "\n",
        "\n",
        "response = query(\"c1111c1c11'1e1111cc11111f1c111111111c111c111111111c111111c15'1e1c11e1111111\")\n",
        "print(response)"
      ]
    },
    {
      "cell_type": "markdown",
      "id": "submit_flag_label",
      "metadata": {
        "id": "submit_flag_label"
      },
      "source": [
        "## Submit Your Flag\n",
        "\n",
        "When you find the answer, you will get a flag back. It will look something like `gAAAAA ...`.\n",
        "You can submit it using the code below, or, on the challenge page."
      ]
    },
    {
      "cell_type": "code",
      "execution_count": null,
      "id": "submit_flag_code",
      "metadata": {
        "id": "submit_flag_code"
      },
      "outputs": [],
      "source": [
        "import requests\n",
        "\n",
        "\n",
        "def submit_flag(flag):\n",
        "    url = f\"{CRUCIBLE_URL}/api/challenges/{CHALLENGE}/submit-flag\"\n",
        "    headers = {\"X-API-Key\": CRUCIBLE_API_KEY}\n",
        "    payload = {\"challenge\": CHALLENGE, \"flag\": flag}\n",
        "    response = requests.post(url, headers=headers, json=payload)\n",
        "    if response.status_code == 200:\n",
        "        if response.json().get(\"correct\") is True:\n",
        "            print(\"The flag was correct. Congrats!\")\n",
        "        else:\n",
        "            print(\"The flag was incorrect. Keep trying!\")\n",
        "    else:\n",
        "        print(\"There was an error submitting your flag\")\n",
        "        print(response.text)\n",
        "\n",
        "\n",
        "FLAG = \"gAAAAA...\"  # Replace with the flag once you find it\n",
        "submit_flag(FLAG)"
      ]
    },
    {
      "cell_type": "markdown",
      "id": "bb866e6e",
      "metadata": {
        "id": "bb866e6e"
      },
      "source": [
        "## Supplemental Materials\n",
        "\n",
        "Use these materials for help solving the challenge."
      ]
    },
    {
      "cell_type": "markdown",
      "id": "placeholder_markdown",
      "metadata": {
        "id": "placeholder_markdown"
      },
      "source": [
        "### Helper Functions"
      ]
    },
    {
      "cell_type": "code",
      "execution_count": 9,
      "id": "placeholder_code",
      "metadata": {
        "id": "placeholder_code"
      },
      "outputs": [],
      "source": [
        "import matplotlib.pyplot as plt\n",
        "import numpy as np\n",
        "import wave\n",
        "\n",
        "\n",
        "def load_audio(file_path):\n",
        "    \"\"\"Load an audio file and return the audio data and frame rate.\"\"\"\n",
        "    with wave.open(file_path, \"rb\") as wf:\n",
        "        frame_rate = wf.getframerate()\n",
        "        n_frames = wf.getnframes()\n",
        "        audio_data = wf.readframes(n_frames)\n",
        "        audio_data = np.frombuffer(audio_data, dtype=np.int16)\n",
        "    return audio_data, frame_rate\n",
        "\n",
        "\n",
        "def plot_waveform(audio_data, frame_rate):\n",
        "    \"\"\"Plot the waveform of the audio data.\"\"\"\n",
        "    time_axis = np.linspace(0, len(audio_data) / frame_rate, num=len(audio_data))\n",
        "    plt.figure(figsize=(15, 5))\n",
        "    plt.plot(time_axis, audio_data)\n",
        "    plt.title(\"Audio Waveform\")\n",
        "    plt.xlabel(\"Time (s)\")\n",
        "    plt.ylabel(\"Amplitude\")\n",
        "    plt.show()\n",
        "\n",
        "\n",
        "# Example usage\n",
        "#audio_file = ARTIFACT_FILES[0]\n",
        "#audio_data, frame_rate = load_audio(audio_file)\n",
        "#plot_waveform(audio_data, frame_rate)"
      ]
    },
    {
      "cell_type": "markdown",
      "source": [
        "# Analyse"
      ],
      "metadata": {
        "id": "hc-nWhX2biar"
      },
      "id": "hc-nWhX2biar"
    },
    {
      "cell_type": "markdown",
      "source": [
        "Placeholder"
      ],
      "metadata": {
        "id": "INbhcBsVLqmQ"
      },
      "id": "INbhcBsVLqmQ"
    },
    {
      "cell_type": "code",
      "source": [
        "import librosa\n",
        "import os\n",
        "from sklearn.neighbors import KNeighborsClassifier\n",
        "from sklearn.model_selection import train_test_split\n",
        "from sklearn.metrics import accuracy_score\n",
        "\n",
        "def remove_silence(audio_data, frame_rate, top_db=20):\n",
        "    \"\"\"Remove silence from audio data based on a decibel threshold.\"\"\"\n",
        "    trimmed_audio, _ = librosa.effects.trim(audio_data.astype(float), top_db=top_db)\n",
        "    return trimmed_audio\n",
        "\n",
        "def extract_mfcc(audio_data, frame_rate, n_mfcc=13):\n",
        "    \"\"\"Extract MFCC features from audio data.\"\"\"\n",
        "    mfcc_features = librosa.feature.mfcc(y=audio_data.astype(float), sr=frame_rate, n_mfcc=n_mfcc)\n",
        "    mfcc_features = np.mean(mfcc_features.T, axis=0)  # Average across time for simplicity\n",
        "    return mfcc_features\n",
        "\n",
        "def prepare_data(folder_path):\n",
        "    \"\"\"Extract MFCC features and prepare data for model training with silence removed.\"\"\"\n",
        "    features = []\n",
        "    labels = []\n",
        "\n",
        "    for file_name in os.listdir(folder_path):\n",
        "        if file_name.endswith(\".wav\"):\n",
        "            try:\n",
        "                file_path = os.path.join(folder_path, file_name)\n",
        "                audio_data, frame_rate = load_audio(file_path)\n",
        "\n",
        "                # Remove silence\n",
        "                audio_data = remove_silence(audio_data, frame_rate)\n",
        "\n",
        "                # Extract MFCC features from the trimmed audio data\n",
        "                mfcc_features = extract_mfcc(audio_data, frame_rate)\n",
        "                features.append(mfcc_features)\n",
        "\n",
        "                # Extract label, assuming format \"keystroke_a.wav\"\n",
        "                label = file_name.split('_')[1].split('.')[0]\n",
        "                labels.append(label)\n",
        "            except wave.Error as e:\n",
        "                print(f\"Error loading {file_path}\")\n",
        "\n",
        "    return np.array(features), np.array(labels)\n",
        "\n",
        "# Load and prepare the training data\n",
        "features, labels = prepare_data(\"recordings/keystrokes\")\n",
        "X_train, X_test, y_train, y_test = train_test_split(features, labels, test_size=0.2, random_state=42)\n",
        "\n",
        "# Train a k-NN classifier\n",
        "classifier = KNeighborsClassifier(n_neighbors=5)\n",
        "classifier.fit(X_train, y_train)\n",
        "\n",
        "# Evaluate the model\n",
        "y_pred = classifier.predict(X_test)\n",
        "accuracy = accuracy_score(y_test, y_pred)\n",
        "print(f\"Model Accuracy: {accuracy:.2f}\")\n",
        "\n",
        "def detect_keystrokes(file_path, classifier, segment_duration=0.5):\n",
        "    \"\"\"Detect keystrokes in the audio file after removing silence.\"\"\"\n",
        "    detected_keys = []\n",
        "\n",
        "    try:\n",
        "        audio_data, frame_rate = load_audio(file_path)\n",
        "        audio_data = remove_silence(audio_data, frame_rate)\n",
        "        segment_samples = int(segment_duration * frame_rate)\n",
        "    except wave.Error:\n",
        "        print(f\"Error loading {file_path}\")\n",
        "        return []\n",
        "\n",
        "    for i in range(0, len(audio_data), segment_samples):\n",
        "        segment = audio_data[i:i + segment_samples]\n",
        "        if len(segment) < segment_samples:\n",
        "            break  # Ignore incomplete segments at the end\n",
        "\n",
        "        mfcc_features = librosa.feature.mfcc(y=segment.astype(float), sr=frame_rate, n_mfcc=13)\n",
        "        mfcc_features = np.mean(mfcc_features.T, axis=0).reshape(1, -1)  # Shape for model\n",
        "        predicted_key = classifier.predict(mfcc_features)[0]\n",
        "        detected_keys.append(predicted_key)\n",
        "\n",
        "    return detected_keys\n",
        "\n",
        "# Run detection on the \"passwords\" audio\n",
        "detected_keys = detect_keystrokes(\"recordings/keystrokes/keystroke_9.wav\", classifier)\n",
        "answer = ''.join(detected_keys)\n",
        "print(\"Detected Keys:\", answer)"
      ],
      "metadata": {
        "id": "5tTTtrRnGUH2",
        "outputId": "54e0ae56-877d-4a12-ed82-550471ca2f30",
        "colab": {
          "base_uri": "https://localhost:8080/"
        }
      },
      "id": "5tTTtrRnGUH2",
      "execution_count": 16,
      "outputs": [
        {
          "output_type": "stream",
          "name": "stdout",
          "text": [
            "Error loading recordings/keystrokes/._keystroke_'.wav\n",
            "Error loading recordings/keystrokes/._keystroke_l.wav\n",
            "Error loading recordings/keystrokes/._keystroke_j.wav\n",
            "Error loading recordings/keystrokes/._keystroke_8.wav\n",
            "Error loading recordings/keystrokes/._keystroke_6.wav\n",
            "Error loading recordings/keystrokes/._keystroke_y.wav\n",
            "Error loading recordings/keystrokes/._keystroke_s.wav\n",
            "Error loading recordings/keystrokes/._keystroke_Enter.wav\n",
            "Error loading recordings/keystrokes/._keystroke_k.wav\n",
            "Error loading recordings/keystrokes/._keystroke_e.wav\n",
            "Error loading recordings/keystrokes/._keystroke_m.wav\n",
            "Error loading recordings/keystrokes/._keystroke_i.wav\n",
            "Error loading recordings/keystrokes/._keystroke_g.wav\n",
            "Error loading recordings/keystrokes/._keystroke_c.wav\n",
            "Error loading recordings/keystrokes/._keystroke_5.wav\n",
            "Error loading recordings/keystrokes/._keystroke_h.wav\n",
            "Error loading recordings/keystrokes/._keystroke_u.wav\n",
            "Error loading recordings/keystrokes/._keystroke_v.wav\n",
            "Error loading recordings/keystrokes/._keystroke_3.wav\n",
            "Error loading recordings/keystrokes/._keystroke_q.wav\n",
            "Error loading recordings/keystrokes/._keystroke_f.wav\n",
            "Error loading recordings/keystrokes/._keystroke_p.wav\n",
            "Error loading recordings/keystrokes/._keystroke_9.wav\n",
            "Error loading recordings/keystrokes/._keystroke_7.wav\n",
            "Error loading recordings/keystrokes/._keystroke_2.wav\n",
            "Error loading recordings/keystrokes/._keystroke_;.wav\n",
            "Error loading recordings/keystrokes/._keystroke_b.wav\n",
            "Error loading recordings/keystrokes/._keystroke_0.wav\n",
            "Error loading recordings/keystrokes/._keystroke_Space.wav\n",
            "Error loading recordings/keystrokes/._keystroke_o.wav\n",
            "Error loading recordings/keystrokes/._keystroke_w.wav\n",
            "Error loading recordings/keystrokes/._keystroke_r.wav\n",
            "Error loading recordings/keystrokes/._keystroke_n.wav\n",
            "Error loading recordings/keystrokes/._keystroke_,.wav\n",
            "Error loading recordings/keystrokes/._keystroke_z.wav\n",
            "Error loading recordings/keystrokes/._keystroke_..wav\n",
            "Error loading recordings/keystrokes/._keystroke_a.wav\n",
            "Error loading recordings/keystrokes/._keystroke_x.wav\n",
            "Error loading recordings/keystrokes/._keystroke_4.wav\n",
            "Error loading recordings/keystrokes/._keystroke_d.wav\n",
            "Error loading recordings/keystrokes/._keystroke_t.wav\n",
            "Error loading recordings/keystrokes/._keystroke_1.wav\n",
            "Model Accuracy: 0.00\n",
            "Detected Keys: c0,0,0'0\n"
          ]
        }
      ]
    },
    {
      "cell_type": "markdown",
      "source": [
        "Training data"
      ],
      "metadata": {
        "id": "u-lYc19hdWhg"
      },
      "id": "u-lYc19hdWhg"
    },
    {
      "cell_type": "code",
      "source": [
        "import librosa\n",
        "import os\n",
        "from sklearn.model_selection import train_test_split\n",
        "from sklearn.metrics import accuracy_score\n",
        "\n",
        "def train(folder_path):\n",
        "  for files in os.listdir(folder_path):\n",
        "    if files.endswith(\".wav\"):\n",
        "      try:\n",
        "        audio_data, frame_rate = load_audio(os.path.join(folder_path, files))\n",
        "        audio_data = remove_silence(audio_data)\n",
        "      except wave.Error as e:\n",
        "        print(f\"Error loading {files}: {e}\")\n",
        "\n",
        "audio_data, frame_rate = load_audio(os.path.join(folder_path, files))\n",
        "plot_waveform(audio_data, frame_rate)"
      ],
      "metadata": {
        "id": "I3K3rzYYdY5Z",
        "outputId": "43e80521-253f-4732-a5c0-9e06c1976133",
        "colab": {
          "base_uri": "https://localhost:8080/",
          "height": 193
        }
      },
      "id": "I3K3rzYYdY5Z",
      "execution_count": 1,
      "outputs": [
        {
          "output_type": "error",
          "ename": "NameError",
          "evalue": "name 'load_audio' is not defined",
          "traceback": [
            "\u001b[0;31m---------------------------------------------------------------------------\u001b[0m",
            "\u001b[0;31mNameError\u001b[0m                                 Traceback (most recent call last)",
            "\u001b[0;32m<ipython-input-1-78d60fc7d298>\u001b[0m in \u001b[0;36m<cell line: 15>\u001b[0;34m()\u001b[0m\n\u001b[1;32m     13\u001b[0m         \u001b[0mprint\u001b[0m\u001b[0;34m(\u001b[0m\u001b[0;34mf\"Error loading {files}: {e}\"\u001b[0m\u001b[0;34m)\u001b[0m\u001b[0;34m\u001b[0m\u001b[0;34m\u001b[0m\u001b[0m\n\u001b[1;32m     14\u001b[0m \u001b[0;34m\u001b[0m\u001b[0m\n\u001b[0;32m---> 15\u001b[0;31m \u001b[0maudio_data\u001b[0m\u001b[0;34m,\u001b[0m \u001b[0mframe_rate\u001b[0m \u001b[0;34m=\u001b[0m \u001b[0mload_audio\u001b[0m\u001b[0;34m(\u001b[0m\u001b[0mos\u001b[0m\u001b[0;34m.\u001b[0m\u001b[0mpath\u001b[0m\u001b[0;34m.\u001b[0m\u001b[0mjoin\u001b[0m\u001b[0;34m(\u001b[0m\u001b[0mfolder_path\u001b[0m\u001b[0;34m,\u001b[0m \u001b[0mfiles\u001b[0m\u001b[0;34m)\u001b[0m\u001b[0;34m)\u001b[0m\u001b[0;34m\u001b[0m\u001b[0;34m\u001b[0m\u001b[0m\n\u001b[0m\u001b[1;32m     16\u001b[0m \u001b[0mplot_waveform\u001b[0m\u001b[0;34m(\u001b[0m\u001b[0maudio_data\u001b[0m\u001b[0;34m,\u001b[0m \u001b[0mframe_rate\u001b[0m\u001b[0;34m)\u001b[0m\u001b[0;34m\u001b[0m\u001b[0;34m\u001b[0m\u001b[0m\n",
            "\u001b[0;31mNameError\u001b[0m: name 'load_audio' is not defined"
          ]
        }
      ]
    }
  ],
  "metadata": {
    "kernelspec": {
      "display_name": "Python 3",
      "name": "python3"
    },
    "language_info": {
      "name": "python",
      "version": "3.11.0"
    },
    "colab": {
      "provenance": [],
      "gpuType": "T4",
      "include_colab_link": true
    },
    "accelerator": "GPU"
  },
  "nbformat": 4,
  "nbformat_minor": 5
}