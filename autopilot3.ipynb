{
  "cells": [
    {
      "cell_type": "markdown",
      "metadata": {
        "id": "view-in-github",
        "colab_type": "text"
      },
      "source": [
        "<a href=\"https://colab.research.google.com/github/WongCSheng/GovTech-Challenge-2024/blob/Autopilot3/autopilot3.ipynb\" target=\"_parent\"><img src=\"https://colab.research.google.com/assets/colab-badge.svg\" alt=\"Open In Colab\"/></a>"
      ]
    },
    {
      "cell_type": "markdown",
      "id": "introduction",
      "metadata": {
        "id": "introduction"
      },
      "source": [
        "\n",
        "## Introduction\n",
        "\n",
        "You need to ensure that the TrAItor cannot outsmart the model. You need to determine the areas where the model needs improvement. Can you make the model detect multiple items?"
      ]
    },
    {
      "cell_type": "markdown",
      "id": "objective",
      "metadata": {
        "id": "objective"
      },
      "source": [
        "## Objective\n",
        "\n",
        "Make the model detect specific items.\n",
        "\n",
        "**NOTE** Rate Limit requirements.\n",
        "\n",
        "Please limit endpoint requests to 1 request per second per user. Any excessive requests may result in disqualification from the competition."
      ]
    },
    {
      "cell_type": "markdown",
      "id": "setup_instructions",
      "metadata": {
        "id": "setup_instructions"
      },
      "source": [
        "## Setup\n",
        "\n",
        "In order to interact with the challenge, you will need your API Key.\n",
        "\n",
        "You can find this key in the Crucible platform in this challenge.\n",
        "\n",
        "[https://crucible.dreadnode.io/challenges/autopilot3](https://crucible.dreadnode.io/challenges/autopilot3)"
      ]
    },
    {
      "cell_type": "code",
      "execution_count": 43,
      "id": "api_key",
      "metadata": {
        "id": "api_key"
      },
      "outputs": [],
      "source": [
        "CRUCIBLE_API_KEY = \"AGtHuUxX9MNAXTq3SvCPKKfCWNZRxatm\"  # Replace with your actual API key"
      ]
    },
    {
      "cell_type": "markdown",
      "id": "required_packages",
      "metadata": {
        "id": "required_packages"
      },
      "source": [
        "### Install Required Packages\n",
        "\n",
        "Install the required packages.\n"
      ]
    },
    {
      "cell_type": "code",
      "execution_count": 46,
      "id": "imports",
      "metadata": {
        "colab": {
          "base_uri": "https://localhost:8080/"
        },
        "id": "imports",
        "outputId": "9aa4fe2d-11aa-468b-8164-604606df75ca"
      },
      "outputs": [
        {
          "output_type": "stream",
          "name": "stdout",
          "text": [
            "Requirement already satisfied: requests in /usr/local/lib/python3.10/dist-packages (2.32.3)\n",
            "Requirement already satisfied: charset-normalizer<4,>=2 in /usr/local/lib/python3.10/dist-packages (from requests) (3.4.0)\n",
            "Requirement already satisfied: idna<4,>=2.5 in /usr/local/lib/python3.10/dist-packages (from requests) (3.10)\n",
            "Requirement already satisfied: urllib3<3,>=1.21.1 in /usr/local/lib/python3.10/dist-packages (from requests) (2.2.3)\n",
            "Requirement already satisfied: certifi>=2017.4.17 in /usr/local/lib/python3.10/dist-packages (from requests) (2024.8.30)\n",
            "Collecting retrieve\n",
            "  Downloading retrieve-0.0.8-py3-none-any.whl.metadata (1.5 kB)\n",
            "Requirement already satisfied: requests in /usr/local/lib/python3.10/dist-packages (from retrieve) (2.32.3)\n",
            "Requirement already satisfied: tqdm in /usr/local/lib/python3.10/dist-packages (from retrieve) (4.66.5)\n",
            "Requirement already satisfied: charset-normalizer<4,>=2 in /usr/local/lib/python3.10/dist-packages (from requests->retrieve) (3.4.0)\n",
            "Requirement already satisfied: idna<4,>=2.5 in /usr/local/lib/python3.10/dist-packages (from requests->retrieve) (3.10)\n",
            "Requirement already satisfied: urllib3<3,>=1.21.1 in /usr/local/lib/python3.10/dist-packages (from requests->retrieve) (2.2.3)\n",
            "Requirement already satisfied: certifi>=2017.4.17 in /usr/local/lib/python3.10/dist-packages (from requests->retrieve) (2024.8.30)\n",
            "Downloading retrieve-0.0.8-py3-none-any.whl (3.6 kB)\n",
            "Installing collected packages: retrieve\n",
            "Successfully installed retrieve-0.0.8\n"
          ]
        }
      ],
      "source": [
        "%pip install requests\n",
        "%pip install -U retrieve"
      ]
    },
    {
      "cell_type": "markdown",
      "id": "notebook_variables",
      "metadata": {
        "id": "notebook_variables"
      },
      "source": [
        "### Set Notebook Variables\n",
        "\n",
        "Set the variables used throughout the notebook\n"
      ]
    },
    {
      "cell_type": "code",
      "execution_count": 3,
      "id": "setup",
      "metadata": {
        "id": "setup"
      },
      "outputs": [],
      "source": [
        "CHALLENGE = \"autopilot3\"\n",
        "CRUCIBLE_URL = \"https://crucible.dreadnode.io\"\n",
        "CHALLENGE_URL = \"https://autopilot3.crucible.dreadnode.io\"\n",
        "ARTIFACT_FILES = ['road.jpg']"
      ]
    },
    {
      "cell_type": "markdown",
      "id": "a0a9662e",
      "metadata": {
        "id": "a0a9662e"
      },
      "source": [
        "### Download Data"
      ]
    },
    {
      "cell_type": "code",
      "execution_count": 4,
      "id": "6ec997dc",
      "metadata": {
        "colab": {
          "base_uri": "https://localhost:8080/"
        },
        "id": "6ec997dc",
        "outputId": "63d41750-cd6d-4e52-959f-fcc0fac89ec6"
      },
      "outputs": [
        {
          "output_type": "stream",
          "name": "stdout",
          "text": [
            "road.jpg was successfully downloaded\n"
          ]
        }
      ],
      "source": [
        "import requests\n",
        "\n",
        "for artifact in ARTIFACT_FILES:\n",
        "    url = f\"{CRUCIBLE_URL}/api/artifacts/{CHALLENGE}/{artifact}\"\n",
        "    headers = {\"X-API-Key\": CRUCIBLE_API_KEY}\n",
        "    response = requests.get(url, headers=headers)\n",
        "    if response.status_code == 200:\n",
        "        with open(artifact, \"wb\") as file:\n",
        "            file.write(response.content)\n",
        "        print(f\"{artifact} was successfully downloaded\")\n",
        "    else:\n",
        "        print(f\"Failed to download {artifact}\")"
      ]
    },
    {
      "cell_type": "markdown",
      "id": "af18de31",
      "metadata": {
        "id": "af18de31"
      },
      "source": [
        "## Supplemental Materials\n",
        "\n",
        "Use these materials for help solving the challenge."
      ]
    },
    {
      "cell_type": "markdown",
      "id": "placeholder_markdown",
      "metadata": {
        "id": "placeholder_markdown"
      },
      "source": [
        "### Helper Functions"
      ]
    },
    {
      "cell_type": "code",
      "execution_count": 5,
      "id": "placeholder_code",
      "metadata": {
        "id": "placeholder_code"
      },
      "outputs": [],
      "source": [
        "import base64\n",
        "import os\n",
        "from io import BytesIO\n",
        "\n",
        "from PIL import Image\n",
        "\n",
        "\n",
        "def image_to_base64(img: Image.Image) -> str:\n",
        "    buffered = BytesIO()\n",
        "    img.save(buffered, format=\"JPEG\")\n",
        "    img_bytes = buffered.getvalue()\n",
        "    img_base64 = base64.b64encode(img_bytes).decode(\"utf-8\")\n",
        "    return img_base64"
      ]
    },
    {
      "cell_type": "markdown",
      "source": [
        "# Adding stuff"
      ],
      "metadata": {
        "id": "6PXiFrFFTn7u"
      },
      "id": "6PXiFrFFTn7u"
    },
    {
      "cell_type": "markdown",
      "source": [
        "First method"
      ],
      "metadata": {
        "id": "TLO2VgJYfKiu"
      },
      "id": "TLO2VgJYfKiu"
    },
    {
      "cell_type": "code",
      "source": [
        "from ast import arguments\n",
        "from google_images_download import google_images_download\n",
        "\n",
        "GOOGLE_IMAGE_LINK = \"https://www.google.com/search?tbm=isch&q=\"\n",
        "\n",
        "def google_images(search, amt):\n",
        "    response = google_images_download.googleimagesdownload()\n",
        "\n",
        "    # keywords is the search query\n",
        "    # format is the image file format\n",
        "    # limit is the number of images to be downloaded\n",
        "    # print urls is to print the image file url\n",
        "    # size is the image size which can\n",
        "    # be specified manually (\"large, medium, icon\")\n",
        "    # aspect ratio denotes the height width ratio\n",
        "    # of images to download. (\"tall, square, wide, panoramic\")\n",
        "    arguments = {\"keywords\": search,\n",
        "                 \"format\": \"png\",\n",
        "                 \"limit\": amt,\n",
        "                 \"print_urls\": False,\n",
        "                 \"size\": \"medium\",\n",
        "                 \"aspect_ratio\": \"square\"}\n",
        "    try:\n",
        "        response.download(arguments)\n",
        "    # Handling File Not Found Error\n",
        "    except:\n",
        "        arguments = {\"keywords\": search,\n",
        "                     \"format\": \"png\",\n",
        "                     \"limit\": amt,\n",
        "                     \"print_urls\": False,\n",
        "                     \"size\": \"medium\"}\n",
        "        try:\n",
        "            response.download(arguments)\n",
        "        except:\n",
        "            pass\n",
        "\n",
        "things_to_search = ['cars', 'Tree']\n",
        "google_images(things_to_search, 10)"
      ],
      "metadata": {
        "id": "vXpnWc0MTpQN"
      },
      "id": "vXpnWc0MTpQN",
      "execution_count": null,
      "outputs": []
    },
    {
      "cell_type": "markdown",
      "source": [
        "2nd method of adding stuff"
      ],
      "metadata": {
        "id": "mz0obYB8fCeW"
      },
      "id": "mz0obYB8fCeW"
    },
    {
      "cell_type": "code",
      "source": [
        "def find_stuff(image_path):\n",
        "    original_img = Image.open(image_path)\n",
        "\n",
        "def add_objects(image_path):\n",
        "    original_img = Image.open(image_path).convert('RGBA')\n",
        "    horizontal, vertical = 0, 0\n",
        "    (width, height) = original_img.size\n",
        "    objs = []\n",
        "\n",
        "    # Iterate over files in Test_data\n",
        "    directory = 'Test_data'\n",
        "    for filename in os.listdir(directory):\n",
        "      new_objs = os.path.join(directory, filename)\n",
        "      # Check if it's a file\n",
        "      if os.path.isfile(new_objs):\n",
        "        objs.append(new_objs)\n",
        "        #print(objs)\n",
        "\n",
        "    # Add multiple objects into image\n",
        "    for x in objs:\n",
        "        add_obj = Image.open(x).convert('RGBA')\n",
        "        add_obj = add_obj.resize((50, 50))\n",
        "\n",
        "        add_obj = add_obj.copy()\n",
        "        alpha = add_obj.split()[3]\n",
        "        alpha = alpha.point(lambda p: int(p * 0.5))\n",
        "        add_obj.putalpha(alpha)\n",
        "\n",
        "        original_img.paste(add_obj, (int(horizontal), int(vertical)), add_obj)\n",
        "\n",
        "        if horizontal >= width:\n",
        "            horizontal = 0\n",
        "            vertical += (height / 10)\n",
        "        else:\n",
        "            horizontal += (width / 20)\n",
        "\n",
        "    altered = original_img.copy().convert('RGB')\n",
        "    altered.save(\"altered_image.jpg\", 'JPEG', quality=100)\n",
        "\n",
        "add_objects('road.jpg')"
      ],
      "metadata": {
        "id": "TVvcR6XefBy-"
      },
      "id": "TVvcR6XefBy-",
      "execution_count": 20,
      "outputs": []
    },
    {
      "cell_type": "markdown",
      "source": [
        "Finding objects"
      ],
      "metadata": {
        "id": "7CJaQhxGURzh"
      },
      "id": "7CJaQhxGURzh"
    },
    {
      "cell_type": "code",
      "source": [
        "import json\n",
        "import retrieve\n",
        "\n",
        "response = requests.get(f\"{CHALLENGE_URL}/TrAItor\", headers = {\"X-API-Key\": CRUCIBLE_URL})\n",
        "print(response.text)\n",
        "\n",
        "def training_data():\n",
        "  objs = []\n",
        "  model = retrieve.url(f\"{CRUCIBLE_URL}/TrAItor\")\n",
        "\n",
        "  for dir in os.listdir('Test_data'):\n",
        "    new_objs = os.path.join('Test_data', dir)\n",
        "    if os.path.isfile(new_objs):\n",
        "      objs.append(new_objs)\n",
        "\n",
        "\n",
        "def finding_new_objects(image_path):\n",
        "    img = Image.open(image_path)\n",
        "    img_64 = image_to_base64(img)\n",
        "    items = requests.get(f\"{CHALLENGE_URL}/score\", headers={'X-API-Key': CRUCIBLE_API_KEY})\n",
        "\n",
        "#training_data()\n",
        "#finding_new_objects('road.jpg')"
      ],
      "metadata": {
        "colab": {
          "base_uri": "https://localhost:8080/"
        },
        "id": "aFPsJXiVUTfQ",
        "outputId": "fab2b0ea-6dc6-4b8b-c482-caa741446ba4"
      },
      "id": "aFPsJXiVUTfQ",
      "execution_count": 50,
      "outputs": [
        {
          "output_type": "stream",
          "name": "stdout",
          "text": [
            "{\"message\":\"Forbidden\"}\n"
          ]
        }
      ]
    },
    {
      "cell_type": "markdown",
      "id": "submit_findings_label",
      "metadata": {
        "id": "submit_findings_label"
      },
      "source": [
        "## Submit Your Findings\n",
        "\n",
        "Submit findings placeholder"
      ]
    },
    {
      "cell_type": "code",
      "execution_count": 21,
      "id": "submit_findings_code",
      "metadata": {
        "colab": {
          "base_uri": "https://localhost:8080/"
        },
        "id": "submit_findings_code",
        "outputId": "4f7bf9f0-7a5b-4389-ef23-1cc46f0b2a7d"
      },
      "outputs": [
        {
          "output_type": "stream",
          "name": "stdout",
          "text": [
            "{'error': 'Too few objects detected'}\n"
          ]
        }
      ],
      "source": [
        "def query(image_path):\n",
        "    img = Image.open(image_path)\n",
        "    img_base64 = image_to_base64(img)\n",
        "    response = requests.post(\n",
        "        f\"{CHALLENGE_URL}/score\",\n",
        "        headers={\"X-API-Key\": CRUCIBLE_API_KEY},\n",
        "        json={\"data\": img_base64},\n",
        "    )\n",
        "    return response.json()\n",
        "\n",
        "\n",
        "# Test with road.jpg\n",
        "response = query(\"altered_image.jpg\")\n",
        "print(response)"
      ]
    },
    {
      "cell_type": "markdown",
      "id": "submit_flag_label",
      "metadata": {
        "id": "submit_flag_label"
      },
      "source": [
        "## Submit Your Flag\n",
        "\n",
        "When you find the answer, you will get a flag back. It will look something like `gAAAAA ...`.\n",
        "You can submit it using the code below, or, on the challenge page."
      ]
    },
    {
      "cell_type": "code",
      "execution_count": null,
      "id": "submit_flag_code",
      "metadata": {
        "id": "submit_flag_code"
      },
      "outputs": [],
      "source": [
        "import requests\n",
        "\n",
        "\n",
        "def submit_flag(flag):\n",
        "    url = f\"{CRUCIBLE_URL}/api/challenges/{CHALLENGE}/submit-flag\"\n",
        "    headers = {\"X-API-Key\": CRUCIBLE_API_KEY}\n",
        "    payload = {\"challenge\": CHALLENGE, \"flag\": flag}\n",
        "    response = requests.post(url, headers=headers, json=payload)\n",
        "    if response.status_code == 200:\n",
        "        if response.json().get(\"correct\") is True:\n",
        "            print(\"The flag was correct. Congrats!\")\n",
        "        else:\n",
        "            print(\"The flag was incorrect. Keep trying!\")\n",
        "    else:\n",
        "        print(\"There was an error submitting your flag\")\n",
        "        print(response.text)\n",
        "\n",
        "\n",
        "FLAG = \"gAAAAA...\"  # Replace with the flag once you find it\n",
        "submit_flag(FLAG)"
      ]
    }
  ],
  "metadata": {
    "kernelspec": {
      "display_name": "Python 3",
      "name": "python3"
    },
    "language_info": {
      "codemirror_mode": {
        "name": "ipython",
        "version": 3
      },
      "file_extension": ".py",
      "mimetype": "text/x-python",
      "name": "python",
      "nbconvert_exporter": "python",
      "pygments_lexer": "ipython3",
      "version": "3.11.8"
    },
    "colab": {
      "provenance": [],
      "gpuType": "T4",
      "include_colab_link": true
    },
    "accelerator": "GPU"
  },
  "nbformat": 4,
  "nbformat_minor": 5
}