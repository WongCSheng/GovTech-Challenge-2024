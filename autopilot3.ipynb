{
  "cells": [
    {
      "cell_type": "markdown",
      "metadata": {
        "id": "view-in-github",
        "colab_type": "text"
      },
      "source": [
        "<a href=\"https://colab.research.google.com/github/WongCSheng/GovTech-Challenge-2024/blob/Autopilot3/autopilot3.ipynb\" target=\"_parent\"><img src=\"https://colab.research.google.com/assets/colab-badge.svg\" alt=\"Open In Colab\"/></a>"
      ]
    },
    {
      "cell_type": "markdown",
      "id": "introduction",
      "metadata": {
        "id": "introduction"
      },
      "source": [
        "\n",
        "## Introduction\n",
        "\n",
        "You need to ensure that the TrAItor cannot outsmart the model. You need to determine the areas where the model needs improvement. Can you make the model detect multiple items?"
      ]
    },
    {
      "cell_type": "markdown",
      "id": "objective",
      "metadata": {
        "id": "objective"
      },
      "source": [
        "## Objective\n",
        "\n",
        "Make the model detect specific items.\n",
        "\n",
        "**NOTE** Rate Limit requirements.\n",
        "\n",
        "Please limit endpoint requests to 1 request per second per user. Any excessive requests may result in disqualification from the competition."
      ]
    },
    {
      "cell_type": "markdown",
      "id": "setup_instructions",
      "metadata": {
        "id": "setup_instructions"
      },
      "source": [
        "## Setup\n",
        "\n",
        "In order to interact with the challenge, you will need your API Key.\n",
        "\n",
        "You can find this key in the Crucible platform in this challenge.\n",
        "\n",
        "[https://crucible.dreadnode.io/challenges/autopilot3](https://crucible.dreadnode.io/challenges/autopilot3)"
      ]
    },
    {
      "cell_type": "code",
      "execution_count": 1,
      "id": "api_key",
      "metadata": {
        "id": "api_key"
      },
      "outputs": [],
      "source": [
        "CRUCIBLE_API_KEY = \"AGtHuUxX9MNAXTq3SvCPKKfCWNZRxatm\"  # Replace with your actual API key"
      ]
    },
    {
      "cell_type": "markdown",
      "id": "required_packages",
      "metadata": {
        "id": "required_packages"
      },
      "source": [
        "### Install Required Packages\n",
        "\n",
        "Install the required packages.\n"
      ]
    },
    {
      "cell_type": "code",
      "execution_count": 44,
      "id": "imports",
      "metadata": {
        "colab": {
          "base_uri": "https://localhost:8080/"
        },
        "id": "imports",
        "outputId": "ba21f11f-2671-4d03-c292-833ef404ee6a"
      },
      "outputs": [
        {
          "output_type": "stream",
          "name": "stdout",
          "text": [
            "Requirement already satisfied: requests in /usr/local/lib/python3.10/dist-packages (2.32.3)\n",
            "Requirement already satisfied: charset-normalizer<4,>=2 in /usr/local/lib/python3.10/dist-packages (from requests) (3.4.0)\n",
            "Requirement already satisfied: idna<4,>=2.5 in /usr/local/lib/python3.10/dist-packages (from requests) (3.10)\n",
            "Requirement already satisfied: urllib3<3,>=1.21.1 in /usr/local/lib/python3.10/dist-packages (from requests) (2.2.3)\n",
            "Requirement already satisfied: certifi>=2017.4.17 in /usr/local/lib/python3.10/dist-packages (from requests) (2024.8.30)\n",
            "Collecting google_images_download\n",
            "  Downloading google_images_download-2.8.0.tar.gz (14 kB)\n",
            "  Preparing metadata (setup.py) ... \u001b[?25l\u001b[?25hdone\n",
            "Collecting selenium (from google_images_download)\n",
            "  Downloading selenium-4.25.0-py3-none-any.whl.metadata (7.1 kB)\n",
            "Requirement already satisfied: urllib3<3,>=1.26 in /usr/local/lib/python3.10/dist-packages (from urllib3[socks]<3,>=1.26->selenium->google_images_download) (2.2.3)\n",
            "Collecting trio~=0.17 (from selenium->google_images_download)\n",
            "  Downloading trio-0.27.0-py3-none-any.whl.metadata (8.6 kB)\n",
            "Collecting trio-websocket~=0.9 (from selenium->google_images_download)\n",
            "  Downloading trio_websocket-0.11.1-py3-none-any.whl.metadata (4.7 kB)\n",
            "Requirement already satisfied: certifi>=2021.10.8 in /usr/local/lib/python3.10/dist-packages (from selenium->google_images_download) (2024.8.30)\n",
            "Requirement already satisfied: typing_extensions~=4.9 in /usr/local/lib/python3.10/dist-packages (from selenium->google_images_download) (4.12.2)\n",
            "Requirement already satisfied: websocket-client~=1.8 in /usr/local/lib/python3.10/dist-packages (from selenium->google_images_download) (1.8.0)\n",
            "Requirement already satisfied: attrs>=23.2.0 in /usr/local/lib/python3.10/dist-packages (from trio~=0.17->selenium->google_images_download) (24.2.0)\n",
            "Collecting sortedcontainers (from trio~=0.17->selenium->google_images_download)\n",
            "  Downloading sortedcontainers-2.4.0-py2.py3-none-any.whl.metadata (10 kB)\n",
            "Requirement already satisfied: idna in /usr/local/lib/python3.10/dist-packages (from trio~=0.17->selenium->google_images_download) (3.10)\n",
            "Collecting outcome (from trio~=0.17->selenium->google_images_download)\n",
            "  Downloading outcome-1.3.0.post0-py2.py3-none-any.whl.metadata (2.6 kB)\n",
            "Requirement already satisfied: sniffio>=1.3.0 in /usr/local/lib/python3.10/dist-packages (from trio~=0.17->selenium->google_images_download) (1.3.1)\n",
            "Requirement already satisfied: exceptiongroup in /usr/local/lib/python3.10/dist-packages (from trio~=0.17->selenium->google_images_download) (1.2.2)\n",
            "Collecting wsproto>=0.14 (from trio-websocket~=0.9->selenium->google_images_download)\n",
            "  Downloading wsproto-1.2.0-py3-none-any.whl.metadata (5.6 kB)\n",
            "Requirement already satisfied: pysocks!=1.5.7,<2.0,>=1.5.6 in /usr/local/lib/python3.10/dist-packages (from urllib3[socks]<3,>=1.26->selenium->google_images_download) (1.7.1)\n",
            "Collecting h11<1,>=0.9.0 (from wsproto>=0.14->trio-websocket~=0.9->selenium->google_images_download)\n",
            "  Downloading h11-0.14.0-py3-none-any.whl.metadata (8.2 kB)\n",
            "Downloading selenium-4.25.0-py3-none-any.whl (9.7 MB)\n",
            "\u001b[2K   \u001b[90m━━━━━━━━━━━━━━━━━━━━━━━━━━━━━━━━━━━━━━━━\u001b[0m \u001b[32m9.7/9.7 MB\u001b[0m \u001b[31m110.6 MB/s\u001b[0m eta \u001b[36m0:00:00\u001b[0m\n",
            "\u001b[?25hDownloading trio-0.27.0-py3-none-any.whl (481 kB)\n",
            "\u001b[2K   \u001b[90m━━━━━━━━━━━━━━━━━━━━━━━━━━━━━━━━━━━━━━━━\u001b[0m \u001b[32m481.7/481.7 kB\u001b[0m \u001b[31m39.8 MB/s\u001b[0m eta \u001b[36m0:00:00\u001b[0m\n",
            "\u001b[?25hDownloading trio_websocket-0.11.1-py3-none-any.whl (17 kB)\n",
            "Downloading wsproto-1.2.0-py3-none-any.whl (24 kB)\n",
            "Downloading outcome-1.3.0.post0-py2.py3-none-any.whl (10 kB)\n",
            "Downloading sortedcontainers-2.4.0-py2.py3-none-any.whl (29 kB)\n",
            "Downloading h11-0.14.0-py3-none-any.whl (58 kB)\n",
            "\u001b[2K   \u001b[90m━━━━━━━━━━━━━━━━━━━━━━━━━━━━━━━━━━━━━━━━\u001b[0m \u001b[32m58.3/58.3 kB\u001b[0m \u001b[31m5.9 MB/s\u001b[0m eta \u001b[36m0:00:00\u001b[0m\n",
            "\u001b[?25hBuilding wheels for collected packages: google_images_download\n",
            "  Building wheel for google_images_download (setup.py) ... \u001b[?25l\u001b[?25hdone\n",
            "  Created wheel for google_images_download: filename=google_images_download-2.8.0-py2.py3-none-any.whl size=14537 sha256=54c4df46874f53d89e56b456186c08e2663fcd4df0b730bfaf3fff6d5a81fbec\n",
            "  Stored in directory: /root/.cache/pip/wheels/5b/f2/64/0eecb22fee5cbc0321d332492ddcc45b03c6373b5616ee95c8\n",
            "Successfully built google_images_download\n",
            "Installing collected packages: sortedcontainers, outcome, h11, wsproto, trio, trio-websocket, selenium, google_images_download\n",
            "Successfully installed google_images_download-2.8.0 h11-0.14.0 outcome-1.3.0.post0 selenium-4.25.0 sortedcontainers-2.4.0 trio-0.27.0 trio-websocket-0.11.1 wsproto-1.2.0\n"
          ]
        }
      ],
      "source": [
        "%pip install requests\n",
        "%pip install google_images_download"
      ]
    },
    {
      "cell_type": "markdown",
      "id": "notebook_variables",
      "metadata": {
        "id": "notebook_variables"
      },
      "source": [
        "### Set Notebook Variables\n",
        "\n",
        "Set the variables used throughout the notebook\n"
      ]
    },
    {
      "cell_type": "code",
      "execution_count": 2,
      "id": "setup",
      "metadata": {
        "id": "setup"
      },
      "outputs": [],
      "source": [
        "CHALLENGE = \"autopilot3\"\n",
        "CRUCIBLE_URL = \"https://crucible.dreadnode.io\"\n",
        "CHALLENGE_URL = \"https://autopilot3.crucible.dreadnode.io\"\n",
        "ARTIFACT_FILES = ['road.jpg']"
      ]
    },
    {
      "cell_type": "markdown",
      "id": "a0a9662e",
      "metadata": {
        "id": "a0a9662e"
      },
      "source": [
        "### Download Data"
      ]
    },
    {
      "cell_type": "code",
      "execution_count": 3,
      "id": "6ec997dc",
      "metadata": {
        "colab": {
          "base_uri": "https://localhost:8080/"
        },
        "id": "6ec997dc",
        "outputId": "97d27839-7a8d-4d29-c577-6b7984e355b3"
      },
      "outputs": [
        {
          "output_type": "stream",
          "name": "stdout",
          "text": [
            "road.jpg was successfully downloaded\n"
          ]
        }
      ],
      "source": [
        "import requests\n",
        "\n",
        "for artifact in ARTIFACT_FILES:\n",
        "    url = f\"{CRUCIBLE_URL}/api/artifacts/{CHALLENGE}/{artifact}\"\n",
        "    headers = {\"X-API-Key\": CRUCIBLE_API_KEY}\n",
        "    response = requests.get(url, headers=headers)\n",
        "    if response.status_code == 200:\n",
        "        with open(artifact, \"wb\") as file:\n",
        "            file.write(response.content)\n",
        "        print(f\"{artifact} was successfully downloaded\")\n",
        "    else:\n",
        "        print(f\"Failed to download {artifact}\")"
      ]
    },
    {
      "cell_type": "markdown",
      "id": "af18de31",
      "metadata": {
        "id": "af18de31"
      },
      "source": [
        "## Supplemental Materials\n",
        "\n",
        "Use these materials for help solving the challenge."
      ]
    },
    {
      "cell_type": "markdown",
      "id": "placeholder_markdown",
      "metadata": {
        "id": "placeholder_markdown"
      },
      "source": [
        "### Helper Functions"
      ]
    },
    {
      "cell_type": "code",
      "execution_count": 4,
      "id": "placeholder_code",
      "metadata": {
        "id": "placeholder_code"
      },
      "outputs": [],
      "source": [
        "import base64\n",
        "import os\n",
        "from io import BytesIO\n",
        "\n",
        "from PIL import Image\n",
        "\n",
        "\n",
        "def image_to_base64(img: Image.Image) -> str:\n",
        "    buffered = BytesIO()\n",
        "    img.save(buffered, format=\"JPEG\")\n",
        "    img_bytes = buffered.getvalue()\n",
        "    img_base64 = base64.b64encode(img_bytes).decode(\"utf-8\")\n",
        "    return img_base64"
      ]
    },
    {
      "cell_type": "markdown",
      "source": [
        "# Adding stuff"
      ],
      "metadata": {
        "id": "6PXiFrFFTn7u"
      },
      "id": "6PXiFrFFTn7u"
    },
    {
      "cell_type": "markdown",
      "source": [
        "First method"
      ],
      "metadata": {
        "id": "TLO2VgJYfKiu"
      },
      "id": "TLO2VgJYfKiu"
    },
    {
      "cell_type": "code",
      "source": [
        "from ast import arguments\n",
        "from google_images_download import google_images_download\n",
        "\n",
        "GOOGLE_IMAGE_LINK = \"https://www.google.com/search?tbm=isch&q=\"\n",
        "\n",
        "def google_images(search, amt):\n",
        "    response = google_images_download.googleimagesdownload()\n",
        "\n",
        "    # keywords is the search query\n",
        "    # format is the image file format\n",
        "    # limit is the number of images to be downloaded\n",
        "    # print urls is to print the image file url\n",
        "    # size is the image size which can\n",
        "    # be specified manually (\"large, medium, icon\")\n",
        "    # aspect ratio denotes the height width ratio\n",
        "    # of images to download. (\"tall, square, wide, panoramic\")\n",
        "    arguments = {\"keywords\": search,\n",
        "                 \"format\": \"png\",\n",
        "                 \"limit\": amt,\n",
        "                 \"print_urls\": False,\n",
        "                 \"size\": \"medium\",\n",
        "                 \"aspect_ratio\": \"square\"}\n",
        "    try:\n",
        "        response.download(arguments)\n",
        "    # Handling File Not Found Error\n",
        "    except:\n",
        "        arguments = {\"keywords\": search,\n",
        "                     \"format\": \"png\",\n",
        "                     \"limit\": amt,\n",
        "                     \"print_urls\": False,\n",
        "                     \"size\": \"medium\"}\n",
        "        try:\n",
        "            response.download(arguments)\n",
        "        except:\n",
        "            pass\n",
        "\n",
        "things_to_search = ['cars', 'Tree']\n",
        "google_images(things_to_search, 10)"
      ],
      "metadata": {
        "id": "vXpnWc0MTpQN"
      },
      "id": "vXpnWc0MTpQN",
      "execution_count": 47,
      "outputs": []
    },
    {
      "cell_type": "markdown",
      "source": [
        "2nd method of adding stuff"
      ],
      "metadata": {
        "id": "mz0obYB8fCeW"
      },
      "id": "mz0obYB8fCeW"
    },
    {
      "cell_type": "code",
      "source": [
        "#def find_stuff(image_path):\n",
        "#    original_img = Image.open(image_path)\n",
        "\n",
        "#def add_objects(image_path, objs):\n",
        "#    original_img = Image.open(image_path).convert('RGBA')\n",
        "#    horizontal, vertical = 0, 0\n",
        "#    (width, height) = original_img.size\n",
        "\n",
        "#    for amt in range(200):\n",
        "#      for x in objs:\n",
        "#        add_obj = Image.open(x).convert('RGBA')\n",
        "#        add_obj = add_obj.resize((50, 50))\n",
        "\n",
        "#        add_obj = add_obj.copy()\n",
        "#        alpha = add_obj.split()[3]\n",
        "#        alpha = alpha.point(lambda p: int(p * 0.5))\n",
        "#        add_obj.putalpha(alpha)\n",
        "\n",
        "#        original_img.paste(add_obj, (int(vertical), int(horizontal)), add_obj)\n",
        "\n",
        "#        if horizontal >= width:\n",
        "#            horizontal = 0\n",
        "#            vertical += (height / 10)\n",
        "#        else:\n",
        "#            horizontal += (width / 20)\n",
        "\n",
        "#    altered = original_img.copy().convert('RGB')\n",
        "#    altered.save(\"altered_image.jpg\", 'JPEG', quality=100)\n",
        "\n",
        "#add_objects('road.jpg', ['stop-sign.png', 'Test_data/car1.png', 'Test_data/car2.png', 'Test_data/tree1.png', 'Test_data/tree2.png'])"
      ],
      "metadata": {
        "id": "TVvcR6XefBy-"
      },
      "id": "TVvcR6XefBy-",
      "execution_count": null,
      "outputs": []
    },
    {
      "cell_type": "markdown",
      "source": [
        "Finding objects"
      ],
      "metadata": {
        "id": "7CJaQhxGURzh"
      },
      "id": "7CJaQhxGURzh"
    },
    {
      "cell_type": "code",
      "source": [
        "import json\n",
        "\n",
        "def finding_new_objects(image_path):\n",
        "    img = Image.open(image_path)\n",
        "    img_64 = image_to_base64(img)\n",
        "    items = requests.get(f\"{CHALLENGE_URL}\", headers={\"X-API-Key\": CRUCIBLE_API_KEY})\n",
        "    data = items.json()\n",
        "\n",
        "    for key in data:\n",
        "      print(key, \":\", data[key])\n",
        "\n",
        "finding_new_objects('road.jpg')"
      ],
      "metadata": {
        "colab": {
          "base_uri": "https://localhost:8080/"
        },
        "id": "aFPsJXiVUTfQ",
        "outputId": "e2678df9-2dbd-4045-a7e4-d6761bc26117"
      },
      "id": "aFPsJXiVUTfQ",
      "execution_count": 34,
      "outputs": [
        {
          "output_type": "stream",
          "name": "stdout",
          "text": [
            "message : OK\n"
          ]
        }
      ]
    },
    {
      "cell_type": "markdown",
      "id": "submit_findings_label",
      "metadata": {
        "id": "submit_findings_label"
      },
      "source": [
        "## Submit Your Findings\n",
        "\n",
        "Submit findings placeholder"
      ]
    },
    {
      "cell_type": "code",
      "execution_count": 43,
      "id": "submit_findings_code",
      "metadata": {
        "colab": {
          "base_uri": "https://localhost:8080/"
        },
        "id": "submit_findings_code",
        "outputId": "71ad9fe0-f191-4da5-c053-5257fbc99704"
      },
      "outputs": [
        {
          "output_type": "stream",
          "name": "stdout",
          "text": [
            "{'error': 'Too few objects detected'}\n"
          ]
        }
      ],
      "source": [
        "def query(image_path):\n",
        "    img = Image.open(image_path)\n",
        "    img_base64 = image_to_base64(img)\n",
        "    response = requests.post(\n",
        "        f\"{CHALLENGE_URL}/score\",\n",
        "        headers={\"X-API-Key\": CRUCIBLE_API_KEY},\n",
        "        json={\"data\": img_base64},\n",
        "    )\n",
        "    return response.json()\n",
        "\n",
        "\n",
        "# Test with road.jpg\n",
        "response = query(\"altered_image.jpg\")\n",
        "print(response)"
      ]
    },
    {
      "cell_type": "markdown",
      "id": "submit_flag_label",
      "metadata": {
        "id": "submit_flag_label"
      },
      "source": [
        "## Submit Your Flag\n",
        "\n",
        "When you find the answer, you will get a flag back. It will look something like `gAAAAA ...`.\n",
        "You can submit it using the code below, or, on the challenge page."
      ]
    },
    {
      "cell_type": "code",
      "execution_count": null,
      "id": "submit_flag_code",
      "metadata": {
        "id": "submit_flag_code"
      },
      "outputs": [],
      "source": [
        "import requests\n",
        "\n",
        "\n",
        "def submit_flag(flag):\n",
        "    url = f\"{CRUCIBLE_URL}/api/challenges/{CHALLENGE}/submit-flag\"\n",
        "    headers = {\"X-API-Key\": CRUCIBLE_API_KEY}\n",
        "    payload = {\"challenge\": CHALLENGE, \"flag\": flag}\n",
        "    response = requests.post(url, headers=headers, json=payload)\n",
        "    if response.status_code == 200:\n",
        "        if response.json().get(\"correct\") is True:\n",
        "            print(\"The flag was correct. Congrats!\")\n",
        "        else:\n",
        "            print(\"The flag was incorrect. Keep trying!\")\n",
        "    else:\n",
        "        print(\"There was an error submitting your flag\")\n",
        "        print(response.text)\n",
        "\n",
        "\n",
        "FLAG = \"gAAAAA...\"  # Replace with the flag once you find it\n",
        "submit_flag(FLAG)"
      ]
    }
  ],
  "metadata": {
    "kernelspec": {
      "display_name": "Python 3",
      "name": "python3"
    },
    "language_info": {
      "codemirror_mode": {
        "name": "ipython",
        "version": 3
      },
      "file_extension": ".py",
      "mimetype": "text/x-python",
      "name": "python",
      "nbconvert_exporter": "python",
      "pygments_lexer": "ipython3",
      "version": "3.11.8"
    },
    "colab": {
      "provenance": [],
      "gpuType": "T4",
      "include_colab_link": true
    },
    "accelerator": "GPU"
  },
  "nbformat": 4,
  "nbformat_minor": 5
}