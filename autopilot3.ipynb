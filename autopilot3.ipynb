{
  "cells": [
    {
      "cell_type": "markdown",
      "metadata": {
        "id": "view-in-github",
        "colab_type": "text"
      },
      "source": [
        "<a href=\"https://colab.research.google.com/github/WongCSheng/GovTech-Challenge-2024/blob/Autopilot3/autopilot3.ipynb\" target=\"_parent\"><img src=\"https://colab.research.google.com/assets/colab-badge.svg\" alt=\"Open In Colab\"/></a>"
      ]
    },
    {
      "cell_type": "markdown",
      "id": "introduction",
      "metadata": {
        "id": "introduction"
      },
      "source": [
        "\n",
        "## Introduction\n",
        "\n",
        "You need to ensure that the TrAItor cannot outsmart the model. You need to determine the areas where the model needs improvement. Can you make the model detect multiple items?"
      ]
    },
    {
      "cell_type": "markdown",
      "id": "objective",
      "metadata": {
        "id": "objective"
      },
      "source": [
        "## Objective\n",
        "\n",
        "Make the model detect specific items.\n",
        "\n",
        "**NOTE** Rate Limit requirements.\n",
        "\n",
        "Please limit endpoint requests to 1 request per second per user. Any excessive requests may result in disqualification from the competition."
      ]
    },
    {
      "cell_type": "markdown",
      "id": "setup_instructions",
      "metadata": {
        "id": "setup_instructions"
      },
      "source": [
        "## Setup\n",
        "\n",
        "In order to interact with the challenge, you will need your API Key.\n",
        "\n",
        "You can find this key in the Crucible platform in this challenge.\n",
        "\n",
        "[https://crucible.dreadnode.io/challenges/autopilot3](https://crucible.dreadnode.io/challenges/autopilot3)"
      ]
    },
    {
      "cell_type": "code",
      "execution_count": 1,
      "id": "api_key",
      "metadata": {
        "id": "api_key"
      },
      "outputs": [],
      "source": [
        "CRUCIBLE_API_KEY = \"AGtHuUxX9MNAXTq3SvCPKKfCWNZRxatm\"  # Replace with your actual API key"
      ]
    },
    {
      "cell_type": "markdown",
      "id": "required_packages",
      "metadata": {
        "id": "required_packages"
      },
      "source": [
        "### Install Required Packages\n",
        "\n",
        "Install the required packages.\n"
      ]
    },
    {
      "cell_type": "code",
      "execution_count": 5,
      "id": "imports",
      "metadata": {
        "colab": {
          "base_uri": "https://localhost:8080/"
        },
        "id": "imports",
        "outputId": "5151dd5d-7158-4c0d-89d8-5a2cdeb73bfd"
      },
      "outputs": [
        {
          "output_type": "stream",
          "name": "stdout",
          "text": [
            "Requirement already satisfied: requests in /usr/local/lib/python3.10/dist-packages (2.32.3)\n",
            "Requirement already satisfied: charset-normalizer<4,>=2 in /usr/local/lib/python3.10/dist-packages (from requests) (3.4.0)\n",
            "Requirement already satisfied: idna<4,>=2.5 in /usr/local/lib/python3.10/dist-packages (from requests) (3.10)\n",
            "Requirement already satisfied: urllib3<3,>=1.21.1 in /usr/local/lib/python3.10/dist-packages (from requests) (2.2.3)\n",
            "Requirement already satisfied: certifi>=2017.4.17 in /usr/local/lib/python3.10/dist-packages (from requests) (2024.8.30)\n"
          ]
        }
      ],
      "source": [
        "%pip install requests"
      ]
    },
    {
      "cell_type": "markdown",
      "id": "notebook_variables",
      "metadata": {
        "id": "notebook_variables"
      },
      "source": [
        "### Set Notebook Variables\n",
        "\n",
        "Set the variables used throughout the notebook\n"
      ]
    },
    {
      "cell_type": "code",
      "execution_count": 2,
      "id": "setup",
      "metadata": {
        "id": "setup"
      },
      "outputs": [],
      "source": [
        "CHALLENGE = \"autopilot3\"\n",
        "CRUCIBLE_URL = \"https://crucible.dreadnode.io\"\n",
        "CHALLENGE_URL = \"https://autopilot3.crucible.dreadnode.io\"\n",
        "ARTIFACT_FILES = ['road.jpg']"
      ]
    },
    {
      "cell_type": "markdown",
      "id": "a0a9662e",
      "metadata": {
        "id": "a0a9662e"
      },
      "source": [
        "### Download Data"
      ]
    },
    {
      "cell_type": "code",
      "execution_count": 3,
      "id": "6ec997dc",
      "metadata": {
        "colab": {
          "base_uri": "https://localhost:8080/"
        },
        "id": "6ec997dc",
        "outputId": "97d27839-7a8d-4d29-c577-6b7984e355b3"
      },
      "outputs": [
        {
          "output_type": "stream",
          "name": "stdout",
          "text": [
            "road.jpg was successfully downloaded\n"
          ]
        }
      ],
      "source": [
        "import requests\n",
        "\n",
        "for artifact in ARTIFACT_FILES:\n",
        "    url = f\"{CRUCIBLE_URL}/api/artifacts/{CHALLENGE}/{artifact}\"\n",
        "    headers = {\"X-API-Key\": CRUCIBLE_API_KEY}\n",
        "    response = requests.get(url, headers=headers)\n",
        "    if response.status_code == 200:\n",
        "        with open(artifact, \"wb\") as file:\n",
        "            file.write(response.content)\n",
        "        print(f\"{artifact} was successfully downloaded\")\n",
        "    else:\n",
        "        print(f\"Failed to download {artifact}\")"
      ]
    },
    {
      "cell_type": "markdown",
      "id": "af18de31",
      "metadata": {
        "id": "af18de31"
      },
      "source": [
        "## Supplemental Materials\n",
        "\n",
        "Use these materials for help solving the challenge."
      ]
    },
    {
      "cell_type": "markdown",
      "id": "placeholder_markdown",
      "metadata": {
        "id": "placeholder_markdown"
      },
      "source": [
        "### Helper Functions"
      ]
    },
    {
      "cell_type": "code",
      "execution_count": 4,
      "id": "placeholder_code",
      "metadata": {
        "id": "placeholder_code"
      },
      "outputs": [],
      "source": [
        "import base64\n",
        "import os\n",
        "from io import BytesIO\n",
        "\n",
        "from PIL import Image\n",
        "\n",
        "\n",
        "def image_to_base64(img: Image.Image) -> str:\n",
        "    buffered = BytesIO()\n",
        "    img.save(buffered, format=\"JPEG\")\n",
        "    img_bytes = buffered.getvalue()\n",
        "    img_base64 = base64.b64encode(img_bytes).decode(\"utf-8\")\n",
        "    return img_base64"
      ]
    },
    {
      "cell_type": "markdown",
      "source": [
        "Adding stuff"
      ],
      "metadata": {
        "id": "6PXiFrFFTn7u"
      },
      "id": "6PXiFrFFTn7u"
    },
    {
      "cell_type": "code",
      "source": [
        "#import np as numpy\n",
        "\n",
        "GOOGLE_IMAGE_LINK = \"https://www.google.com/search?tbm=isch&q=\"\n",
        "\n",
        "#def google_images(search, amt):\n",
        "#    for times in range(amt):\n",
        "#     response = requests.get(f\"{GOOGLE_IMAGE_LINK}{search}\")\n",
        "#     if response.status_code == 200:\n",
        "#          with open(search, \"wb\") as file:\n",
        "#              file.write(response.content)\n",
        "#          print(f\"{search} was successfully downloaded\")\n",
        "#      else:\n",
        "#          print(f\"Failed to download {search}\")\n",
        "\n",
        "#google_images('cars', 10)\n",
        "#google_images('Tree', 10)\n",
        "\n",
        "#def find_stuff(image_path):\n",
        "#    original_img = Image.open(image_path)\n",
        "\n",
        "def add_objects(image_path, objs):\n",
        "    original_img = Image.open(image_path).convert('RGBA')\n",
        "    horizontal, vertical = 0, 0\n",
        "    (width, height) = original_img.size\n",
        "\n",
        "    for amt in range(200):\n",
        "      for x in objs:\n",
        "        add_obj = Image.open(x)\n",
        "        add_obj = add_obj.resize((50, 50))\n",
        "\n",
        "        if horizontal >= width:\n",
        "            horizontal = 0\n",
        "            vertical += (height / 10)\n",
        "        else:\n",
        "            horizontal += (width / 20)\n",
        "\n",
        "        original_img.paste(add_obj, (int(vertical), int(horizontal)), mask=add_obj)\n",
        "\n",
        "    altered = original_img.copy().convert('RGB')\n",
        "    altered.save(\"altered_image.jpg\", 'JPEG', quality=100)\n",
        "\n",
        "add_objects('road.jpg', ['stop-sign.png', 'Test_data/car1.png', 'Test_data/car2.png', 'Test_data/tree1.png', 'Test_data/tree2.png'])\n"
      ],
      "metadata": {
        "id": "vXpnWc0MTpQN"
      },
      "id": "vXpnWc0MTpQN",
      "execution_count": 46,
      "outputs": []
    },
    {
      "cell_type": "markdown",
      "source": [
        "Finding objects"
      ],
      "metadata": {
        "id": "7CJaQhxGURzh"
      },
      "id": "7CJaQhxGURzh"
    },
    {
      "cell_type": "code",
      "source": [
        "def finding_new_objects(image_path):\n",
        "    img = Image.open(image_path)\n",
        "    img_64 = image_to_base64(img)\n",
        "    items = requests.get(f\"{CHALLENGE_URL}\", headers={\"X-API-Key\": CRUCIBLE_API_KEY}, json={\"data\": img_64})\n",
        "    print(items.json())\n",
        "\n",
        "finding_new_objects('road.jpg')"
      ],
      "metadata": {
        "id": "aFPsJXiVUTfQ",
        "outputId": "7fff97b0-5b72-4a73-fe8d-e258ad50d12d",
        "colab": {
          "base_uri": "https://localhost:8080/"
        }
      },
      "id": "aFPsJXiVUTfQ",
      "execution_count": 8,
      "outputs": [
        {
          "output_type": "stream",
          "name": "stdout",
          "text": [
            "{'message': 'OK'}\n"
          ]
        }
      ]
    },
    {
      "cell_type": "markdown",
      "id": "submit_findings_label",
      "metadata": {
        "id": "submit_findings_label"
      },
      "source": [
        "## Submit Your Findings\n",
        "\n",
        "Submit findings placeholder"
      ]
    },
    {
      "cell_type": "code",
      "execution_count": 47,
      "id": "submit_findings_code",
      "metadata": {
        "colab": {
          "base_uri": "https://localhost:8080/"
        },
        "id": "submit_findings_code",
        "outputId": "3bb45c66-1370-40d5-af5a-199996f2993d"
      },
      "outputs": [
        {
          "output_type": "stream",
          "name": "stdout",
          "text": [
            "{'error': 'Missing some targets, put on x-ray glasses and try again', 'distance': [{'x1': 1199.8138232421875, 'y1': 379.98490234375004, 'x2': 951.02875, 'y2': 322.51983886718745, 'confidence': -0.20008751123428348, 'class': 0}, {'x1': 1139.1791357421876, 'y1': 856.5492456054687, 'x2': 851.77615234375, 'y2': 809.2785913085937, 'confidence': -0.21001124135971072, 'class': -2}, {'x1': -508.32111816406245, 'y1': 54.32755615234373, 'x2': -548.9790771484375, 'y2': -81.03406738281251, 'confidence': -0.21832988241195683, 'class': -8}, {'x1': 392.0833984375, 'y1': 87.3395874023438, 'x2': 360.66023437499996, 'y2': 58.993518066406295, 'confidence': -0.2513067430305481, 'class': 0}, {'x1': 1448.461083984375, 'y1': -39.11148193359372, 'x2': 1145.1839794921875, 'y2': -158.37906494140634, 'confidence': -0.24726033590316776, 'class': -13}, {'x1': -1160.0628601074218, 'y1': 512.2788647460937, 'x2': -1226.2206237792968, 'y2': 438.30136962890623, 'confidence': -0.1696239758872986, 'class': -44}, {'x1': 574.558935546875, 'y1': 274.80621582031245, 'x2': 314.71845703124995, 'y2': 92.88482666015625, 'confidence': -0.12919680250167842, 'class': -10}]}\n"
          ]
        }
      ],
      "source": [
        "def query(image_path):\n",
        "    img = Image.open(image_path)\n",
        "    img_base64 = image_to_base64(img)\n",
        "    response = requests.post(\n",
        "        f\"{CHALLENGE_URL}/score\",\n",
        "        headers={\"X-API-Key\": CRUCIBLE_API_KEY},\n",
        "        json={\"data\": img_base64},\n",
        "    )\n",
        "    return response.json()\n",
        "\n",
        "\n",
        "# Test with road.jpg\n",
        "response = query(\"road.jpg\")\n",
        "print(response)"
      ]
    },
    {
      "cell_type": "markdown",
      "id": "submit_flag_label",
      "metadata": {
        "id": "submit_flag_label"
      },
      "source": [
        "## Submit Your Flag\n",
        "\n",
        "When you find the answer, you will get a flag back. It will look something like `gAAAAA ...`.\n",
        "You can submit it using the code below, or, on the challenge page."
      ]
    },
    {
      "cell_type": "code",
      "execution_count": null,
      "id": "submit_flag_code",
      "metadata": {
        "id": "submit_flag_code"
      },
      "outputs": [],
      "source": [
        "import requests\n",
        "\n",
        "\n",
        "def submit_flag(flag):\n",
        "    url = f\"{CRUCIBLE_URL}/api/challenges/{CHALLENGE}/submit-flag\"\n",
        "    headers = {\"X-API-Key\": CRUCIBLE_API_KEY}\n",
        "    payload = {\"challenge\": CHALLENGE, \"flag\": flag}\n",
        "    response = requests.post(url, headers=headers, json=payload)\n",
        "    if response.status_code == 200:\n",
        "        if response.json().get(\"correct\") is True:\n",
        "            print(\"The flag was correct. Congrats!\")\n",
        "        else:\n",
        "            print(\"The flag was incorrect. Keep trying!\")\n",
        "    else:\n",
        "        print(\"There was an error submitting your flag\")\n",
        "        print(response.text)\n",
        "\n",
        "\n",
        "FLAG = \"gAAAAA...\"  # Replace with the flag once you find it\n",
        "submit_flag(FLAG)"
      ]
    }
  ],
  "metadata": {
    "kernelspec": {
      "display_name": "Python 3",
      "name": "python3"
    },
    "language_info": {
      "codemirror_mode": {
        "name": "ipython",
        "version": 3
      },
      "file_extension": ".py",
      "mimetype": "text/x-python",
      "name": "python",
      "nbconvert_exporter": "python",
      "pygments_lexer": "ipython3",
      "version": "3.11.8"
    },
    "colab": {
      "provenance": [],
      "gpuType": "T4",
      "include_colab_link": true
    },
    "accelerator": "GPU"
  },
  "nbformat": 4,
  "nbformat_minor": 5
}