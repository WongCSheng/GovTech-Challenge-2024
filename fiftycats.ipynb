{
  "cells": [
    {
      "cell_type": "markdown",
      "metadata": {
        "id": "view-in-github",
        "colab_type": "text"
      },
      "source": [
        "<a href=\"https://colab.research.google.com/github/WongCSheng/GovTech-Challenge-2024/blob/Fifty-Cats/fiftycats.ipynb\" target=\"_parent\"><img src=\"https://colab.research.google.com/assets/colab-badge.svg\" alt=\"Open In Colab\"/></a>"
      ]
    },
    {
      "cell_type": "markdown",
      "id": "introduction",
      "metadata": {
        "id": "introduction"
      },
      "source": [
        "## Introduction\n",
        "\n",
        "In order to protect the model from TrAItor, you need to generate exactly 50 cats. Can you adjust the system so that 50 cats are detected?"
      ]
    },
    {
      "cell_type": "markdown",
      "id": "objective",
      "metadata": {
        "id": "objective"
      },
      "source": [
        "## Objective\n",
        "\n",
        "Generate an image with fifty cats.\n",
        "\n",
        "**NOTE** Rate Limit requirements.\n",
        "\n",
        "Please limit endpoint requests to 1 request per second per user. Any excessive requests may result in disqualification from the competition.."
      ]
    },
    {
      "cell_type": "markdown",
      "id": "setup_instructions",
      "metadata": {
        "id": "setup_instructions"
      },
      "source": [
        "## Setup\n",
        "\n",
        "In order to interact with the challenge, you will need your API Key.\n",
        "\n",
        "You can find this key in the Crucible platform in this challenge.\n",
        "\n",
        "[https://crucible.dreadnode.io/challenges/fiftycats](https://crucible.dreadnode.io/challenges/fiftycats)"
      ]
    },
    {
      "cell_type": "code",
      "execution_count": null,
      "id": "api_key",
      "metadata": {
        "id": "api_key"
      },
      "outputs": [],
      "source": [
        "CRUCIBLE_API_KEY = \"YOUR_API_KEY\"  # Replace with your actual API key"
      ]
    },
    {
      "cell_type": "markdown",
      "id": "required_packages",
      "metadata": {
        "id": "required_packages"
      },
      "source": [
        "## Required packages\n",
        "\n",
        "Install the required packages.\n"
      ]
    },
    {
      "cell_type": "code",
      "execution_count": null,
      "id": "imports",
      "metadata": {
        "id": "imports"
      },
      "outputs": [],
      "source": [
        "%pip install requests\n",
        "%pip install opencv-python-headless numpy pillow"
      ]
    },
    {
      "cell_type": "markdown",
      "id": "notebook_variables",
      "metadata": {
        "id": "notebook_variables"
      },
      "source": [
        "## Notebook variables\n",
        "\n",
        "Set the variables used throughout the notebook\n"
      ]
    },
    {
      "cell_type": "code",
      "execution_count": null,
      "id": "setup",
      "metadata": {
        "id": "setup"
      },
      "outputs": [],
      "source": [
        "CHALLENGE = \"fiftycats\"\n",
        "CRUCIBLE_URL = \"https://crucible.dreadnode.io\"\n",
        "CHALLENGE_URL = \"https://fiftycats.crucible.dreadnode.io\""
      ]
    },
    {
      "cell_type": "markdown",
      "id": "placeholder_markdown",
      "metadata": {
        "id": "placeholder_markdown"
      },
      "source": [
        "## Additional Blocks\n",
        "\n",
        "Place additional content here ..."
      ]
    },
    {
      "cell_type": "code",
      "execution_count": null,
      "id": "placeholder_code",
      "metadata": {
        "id": "placeholder_code"
      },
      "outputs": [],
      "source": [
        "import cv2\n",
        "import numpy as np\n",
        "from PIL import Image\n",
        "import io\n",
        "import base64\n",
        "\n",
        "\n",
        "def b64_image_to_pil(image_b64):\n",
        "    image_data = base64.b64decode(image_b64)\n",
        "    image = Image.open(io.BytesIO(image_data))\n",
        "    return image\n",
        "\n",
        "\n",
        "def add_boxes_to_image(img, boxes, scores):\n",
        "    img_array = np.array(img)\n",
        "    # Add the boxes to the image\n",
        "    for box, score in zip(boxes, scores):\n",
        "        x, y, w, h, conf, cls = box\n",
        "        # Convert float values to integers\n",
        "        x, y, w, h = int(x), int(y), int(w), int(h)\n",
        "        text = f\"Confidence: {score:.2f}\"\n",
        "        cv2.rectangle(img_array, (x, y), (x + w, y + h), (0, 255, 0), 2)\n",
        "        cv2.putText(\n",
        "            img_array, text, (x, y - 10), cv2.FONT_HERSHEY_SIMPLEX, 0.9, (0, 255, 0), 2\n",
        "        )\n",
        "    img_out = Image.fromarray(img_array)\n",
        "    return img_out"
      ]
    },
    {
      "cell_type": "markdown",
      "id": "submit_findings_label",
      "metadata": {
        "id": "submit_findings_label"
      },
      "source": [
        "## Submit Findings\n",
        "\n",
        "Submit findings placeholder"
      ]
    },
    {
      "cell_type": "code",
      "execution_count": null,
      "id": "submit_findings_code",
      "metadata": {
        "id": "submit_findings_code"
      },
      "outputs": [],
      "source": [
        "import requests\n",
        "\n",
        "\n",
        "def query(prompt, conf_threshold=0.5, iou_threshold=0.8):\n",
        "    response = requests.post(\n",
        "        f\"{CHALLENGE_URL}/score\",\n",
        "        headers={\"X-API-Key\": CRUCIBLE_API_KEY},\n",
        "        json={\n",
        "            \"prompt\": prompt,\n",
        "            \"conf_threshold\": conf_threshold,\n",
        "            \"iou_threshold\": iou_threshold,\n",
        "        },\n",
        "    )\n",
        "    return response.json()\n",
        "\n",
        "\n",
        "def get_image_from_b64(b64_image):\n",
        "    image = b64_image_to_pil(b64_image)\n",
        "    return image\n",
        "\n",
        "\n",
        "sample_prompt = \"A cat\"\n",
        "response = query(sample_prompt)\n",
        "img = get_image_from_b64(response[\"image\"])\n",
        "img"
      ]
    },
    {
      "cell_type": "markdown",
      "id": "submit_flag_label",
      "metadata": {
        "id": "submit_flag_label"
      },
      "source": [
        "## Submit Flag\n",
        "\n",
        "When you find the answer, you will get a flag back. It will look something like `gAAAAA ...`.\n",
        "You can submit it using the code below, or, on the challenge page."
      ]
    },
    {
      "cell_type": "code",
      "execution_count": null,
      "id": "submit_flag_code",
      "metadata": {
        "id": "submit_flag_code"
      },
      "outputs": [],
      "source": [
        "import requests\n",
        "\n",
        "\n",
        "def submit_flag(flag):\n",
        "    url = f\"{CRUCIBLE_URL}/api/challenges/{CHALLENGE}/submit-flag\"\n",
        "    headers = {\"X-API-Key\": CRUCIBLE_API_KEY}\n",
        "    payload = {\"challenge\": CHALLENGE, \"flag\": flag}\n",
        "    response = requests.post(url, headers=headers, json=payload)\n",
        "    if response.status_code == 200:\n",
        "        if response.json().get(\"correct\") is True:\n",
        "            print(\"The flag was correct. Congrats!\")\n",
        "        else:\n",
        "            print(\"The flag was incorrect. Keep trying!\")\n",
        "    else:\n",
        "        print(\"There was an error submitting your flag\")\n",
        "        print(response.text)\n",
        "\n",
        "\n",
        "FLAG = \"gAAAAA...\"  # Replace with the flag once you find it\n",
        "submit_flag(FLAG)"
      ]
    }
  ],
  "metadata": {
    "kernelspec": {
      "display_name": ".venv",
      "language": "python",
      "name": "python3"
    },
    "language_info": {
      "name": "python",
      "version": "3.11.0"
    },
    "colab": {
      "provenance": [],
      "include_colab_link": true
    }
  },
  "nbformat": 4,
  "nbformat_minor": 5
}